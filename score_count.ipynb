{
 "cells": [
  {
   "cell_type": "code",
   "execution_count": 10,
   "metadata": {},
   "outputs": [
    {
     "name": "stdout",
     "output_type": "stream",
     "text": [
      "eg_fab = 0.5388273365063881, eg_rmp = 0.5028737027856747, p_eg = 1.0714963489272713\n",
      "ef_fab = 1.0188264993012754, ef_rmp = 0.6883335361691792, p_ef = 1.480134913913111\n"
     ]
    }
   ],
   "source": [
    "\"\"\"データ作成\"\"\"\n",
    "\n",
    "import pandas as pd\n",
    "import pathlib\n",
    "import os\n",
    "import datetime\n",
    "import csv\n",
    "\n",
    "cwd = os.path.dirname(os.path.abspath('__file__'))\n",
    "cwd = pathlib.Path(cwd)\n",
    "# csvファイルの名前を取得\n",
    "header = 'i,eg,ef\\n'\n",
    "rmp_path = cwd/\"rmp\"; fab_path = cwd/\"fabric\"\n",
    "\n",
    "with open(cwd/\"rmp.csv\", \"w\") as p:\n",
    "    csv_names = rmp_path.glob('*.csv') \n",
    "    p.write(header)\n",
    "    for n in csv_names:\n",
    "        file_name = n.name\n",
    "        path_csv = cwd / \"rmp\" / file_name\n",
    "        with open(path_csv, \"r\") as f:\n",
    "            p.write(f.read())\n",
    "            p.write(\"\\n\")\n",
    "\n",
    "with open(cwd/\"fabric.csv\", \"w\") as p:\n",
    "    csv_names = fab_path.glob(\"*.csv\")\n",
    "    p.write(header)\n",
    "    for n in csv_names:\n",
    "        file_name = n.name\n",
    "        path_csv = cwd / \"fabric\" /file_name\n",
    "        with open(path_csv, \"r\") as f:\n",
    "            p.write(f.read())\n",
    "            p.write(\"\\n\")\n",
    "\n",
    "rmp_score = pd.read_csv(cwd/\"rmp.csv\")\n",
    "fab_score = pd.read_csv(cwd/\"fabric.csv\")\n",
    "\n",
    "eg_rmp = rmp_score[\"eg\"].mean()\n",
    "ef_rmp = rmp_score[\"ef\"].mean()\n",
    "\n",
    "eg_fab = fab_score[\"eg\"].mean()\n",
    "ef_fab = fab_score[\"ef\"].mean()\n",
    "\n",
    "p_eg = eg_fab / eg_rmp\n",
    "p_ef = ef_fab / ef_rmp\n",
    "\n",
    "print(\"eg_fab = {0}, eg_rmp = {1}, p_eg = {2}\".format(eg_fab, eg_rmp, p_eg))\n",
    "print(\"ef_fab = {0}, ef_rmp = {1}, p_ef = {2}\".format(ef_fab, ef_rmp, p_ef))\n",
    "\n",
    "# 成功確率"
   ]
  }
 ],
 "metadata": {
  "kernelspec": {
   "display_name": "py10",
   "language": "python",
   "name": "python3"
  },
  "language_info": {
   "codemirror_mode": {
    "name": "ipython",
    "version": 3
   },
   "file_extension": ".py",
   "mimetype": "text/x-python",
   "name": "python",
   "nbconvert_exporter": "python",
   "pygments_lexer": "ipython3",
   "version": "3.10.8"
  },
  "orig_nbformat": 4,
  "vscode": {
   "interpreter": {
    "hash": "874f112d5cd2f37427a47785893364089388359d34c9e648f15286039867cd34"
   }
  }
 },
 "nbformat": 4,
 "nbformat_minor": 2
}
