{
 "cells": [
  {
   "cell_type": "code",
   "execution_count": null,
   "metadata": {},
   "outputs": [],
   "source": [
    "import pandas as pd\n",
    "import pathlib\n",
    "import os\n",
    "import datetime\n",
    "import csv\n",
    "\n",
    "cwd = os.path.dirname(__file__)\n",
    "cwd = pathlib.Path(cwd)\n",
    "csv_names = cwd.glob('*.csv')  # csvファイルの名前を取得\n",
    "header = 'i,eg,ef\\n'\n",
    "\n",
    "with open(cwd/\"hoge.csv\", \"w\") as p:\n",
    "    p.write(header)\n",
    "    for n in csv_names:\n",
    "        file_name = n.name\n",
    "        path_csv = cwd / file_name\n",
    "        with open(path_csv, \"r\") as f:\n",
    "            p.write(str(f))\n",
    "            p.write(\"\\n\")\n"
   ]
  }
 ],
 "metadata": {
  "kernelspec": {
   "display_name": "py10",
   "language": "python",
   "name": "python3"
  },
  "language_info": {
   "name": "python",
   "version": "3.10.8"
  },
  "orig_nbformat": 4,
  "vscode": {
   "interpreter": {
    "hash": "874f112d5cd2f37427a47785893364089388359d34c9e648f15286039867cd34"
   }
  }
 },
 "nbformat": 4,
 "nbformat_minor": 2
}
