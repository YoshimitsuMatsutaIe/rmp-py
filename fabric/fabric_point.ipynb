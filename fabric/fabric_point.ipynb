{
 "cells": [
  {
   "cell_type": "code",
   "execution_count": 1,
   "metadata": {},
   "outputs": [],
   "source": [
    "using Plots\n",
    "using ForwardDiff"
   ]
  },
  {
   "cell_type": "code",
   "execution_count": 2,
   "metadata": {},
   "outputs": [
    {
     "ename": "LoadError",
     "evalue": "UndefVarError: PointMass not defined",
     "output_type": "error",
     "traceback": [
      "UndefVarError: PointMass not defined",
      "",
      "Stacktrace:",
      " [1] top-level scope",
      "   @ In[2]:8"
     ]
    }
   ],
   "source": [
    "s(v) = v < 0 ? 1.0 : 0.0\n",
    "\n",
    "\n",
    "function jvp(f, x, u)\n",
    "    return ForwardDiff.derivative(t->f(x + t*u), 0.0)\n",
    "end\n",
    "\n",
    "attractor_task_map(q, qd) = q - qd\n",
    "repeller_task_map(q, qo, r) = norm(q - qo) / r - 1\n",
    "\n",
    "\n",
    "function attractor_fabric(x, ẋ)\n",
    "    k = 150.0\n",
    "    αᵩ = 10\n",
    "    β = 100.5\n",
    "    K = 10\n",
    "    m₊ = 2.0\n",
    "    m₋ = 0.2\n",
    "    αₘ = 0.75\n",
    "\n",
    "    ψ₁(x) = k * (norm(x) + (1/αᵩ)*log(1+exp(-2αᵩ*norm(x))))\n",
    "    δx = ForwardDiff.gradient(ψ₁, x)\n",
    "    #ẍ = -K*δx - β*ẋ\n",
    "    ẍ = -δx\n",
    "    M = (m₊ - m₋) * exp(-(αₘ*norm(x))^2) * I(2) + m₋ * I(2)\n",
    "    return (M, ẍ)\n",
    "end\n",
    "\n",
    "function repeller_fabric(x, ẋ)\n",
    "    kᵦ = 75\n",
    "    αᵦ = 50.0 \n",
    "    s = [v < 0 ? 1.0 : 0.0 for v in ẋ]\n",
    "    M = diagm((s.*kᵦ) ./ (x.^2))\n",
    "    ψ(θ) = αᵦ ./ (2*θ.^8)\n",
    "    x = convert(Vector{Float64}, x)\n",
    "    δx = ForwardDiff.jacobian(ψ, x)\n",
    "    ẍ = vec((-s .* ẋ.^2)' * δx)\n",
    "    return (M, ẍ)\n",
    "end\n",
    "\n",
    "function fabric_eval(x, ẋ, name::Symbol, env::PointMass)\n",
    "    M = nothing; ẍ = nothing \n",
    "    fabricname = Symbol(name, :_fabric)\n",
    "    ϕ = eval(fabricname)\n",
    "    M, ẍ = ϕ(x, ẋ, env)\n",
    "    return (M, ẍ)\n",
    "end\n",
    "\n",
    "function energize(ẍ, M, env::PointMass; ϵ=1e-1)\n",
    "    ẋ = env.ẋ + ẍ*env.Δt \n",
    "    ẋ = ẋ/(norm(ẋ)) \n",
    "    ẍₑ = (I(size(M)[1]) - ϵ*ẋ*ẋ')*ẍ\n",
    "    return ẍₑ\n",
    "end\n",
    "\n",
    "function pointmass_fabric_solve(θ, θ̇ , env::PointMass)\n",
    "    xₛ = []; ẋₛ = []; cₛ = []\n",
    "    Mₛ = []; ẍₛ = []; Jₛ = []\n",
    "    for t in env.task_maps\n",
    "        ψ = eval(Symbol(t, :_task_map))\n",
    "        x = ψ(θ, env) \n",
    "        ẋ = jvp(σ->ψ(σ, env), θ, θ̇ )\n",
    "        c = jvp(σ -> jvp(σ->ψ(σ, env), σ, θ̇  ), θ, θ̇ )\n",
    "        J = ForwardDiff.jacobian(σ->ψ(σ, env), θ)\n",
    "        M, ẍ = fabric_eval(x, ẋ, t, env) \n",
    "        push!(xₛ, x); push!(ẋₛ, ẋ); push!(cₛ, c) \n",
    "        push!(Mₛ, M); push!(ẍₛ, ẍ); push!(Jₛ, J) \n",
    "    end   \n",
    "    Mᵣ = sum([J' * M * J for (J, M) in zip(Jₛ, Mₛ)])\n",
    "    fᵣ = sum([J' * M * (ẍ - c) for (J, M, ẍ, c) in zip(Jₛ, Mₛ, ẍₛ, cₛ)])\n",
    "    Mᵣ = convert(Matrix{Float64}, Mᵣ)\n",
    "    ẍ = pinv(Mᵣ) * fᵣ \n",
    "    ẍ = energize(ẍ, Mᵣ, env)\n",
    "    return ẍ \n",
    "end"
   ]
  }
 ],
 "metadata": {
  "kernelspec": {
   "display_name": "Julia 1.8.1",
   "language": "julia",
   "name": "julia-1.8"
  },
  "language_info": {
   "file_extension": ".jl",
   "mimetype": "application/julia",
   "name": "julia",
   "version": "1.8.1"
  },
  "orig_nbformat": 4
 },
 "nbformat": 4,
 "nbformat_minor": 2
}
