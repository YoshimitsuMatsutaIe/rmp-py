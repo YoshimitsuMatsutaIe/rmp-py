{
 "cells": [
  {
   "cell_type": "code",
   "execution_count": 1,
   "metadata": {},
   "outputs": [],
   "source": [
    "import numpy as np\n",
    "import matplotlib.pyplot as plt\n",
    "from scipy import integrate as integrate"
   ]
  },
  {
   "cell_type": "code",
   "execution_count": 7,
   "metadata": {},
   "outputs": [
    {
     "name": "stderr",
     "output_type": "stream",
     "text": [
      "/tmp/ipykernel_3525/2109595375.py:41: RuntimeWarning: divide by zero encountered in double_scalars\n",
      "  return 1/s\n"
     ]
    },
    {
     "data": {
      "text/plain": [
       "<matplotlib.legend.Legend at 0x7f806cd543a0>"
      ]
     },
     "execution_count": 7,
     "metadata": {},
     "output_type": "execute_result"
    },
    {
     "data": {
      "image/png": "[encoded data removed]",
      "text/plain": [
       "<Figure size 432x288 with 1 Axes>"
      ]
     },
     "metadata": {
      "needs_background": "light"
     },
     "output_type": "display_data"
    }
   ],
   "source": [
    "r = 1\n",
    "def w2(s):\n",
    "    if r - s > 0:\n",
    "        return (r - s)**2 / s\n",
    "    else:\n",
    "        return 0\n",
    "\n",
    "def w2_dot(s):\n",
    "    if r - s > 0:\n",
    "        return (-2*(r-s)*s + (r-s)) / s**2\n",
    "    else:\n",
    "        return 0\n",
    "\n",
    "def grad(t, s):\n",
    "    #print(\"t = {0}, s = {1}\".format(t, s))\n",
    "    return [w2(s) * w2_dot(s)]\n",
    "\n",
    "x = np.arange(0, 2, 0.01)\n",
    "\n",
    "\n",
    "oi = [0.00001]\n",
    "t = [xi for xi in np.arange(0.4, 1.0, 0.01)]\n",
    "t = list(reversed(t))\n",
    "dt = 0.001\n",
    "for xi in t[1:]:\n",
    "    k1 = grad(0, xi)[0]\n",
    "    k2 = grad(0, xi+k1/2*dt)[0]\n",
    "    k3 = grad(0, xi+k2/2*dt)[0]\n",
    "    k4 = grad(0, xi+k3*dt)[0]\n",
    "    oi.append(\n",
    "        oi[-1] + (k1 + 2*k2 + 2*k3 + k4)*dt/6\n",
    "    )\n",
    "#print(oi)\n",
    "plt.plot(t, oi, label=\"pot\")\n",
    "\n",
    "# sol = integrate.solve_ivp(grad, [r, 0.5], y0=[0.001])\n",
    "# print(sol.message)\n",
    "# plt.plot(sol.t, sol.y[0], label=\"ori\")\n",
    "\n",
    "def obs2(s):\n",
    "    return 1/s\n",
    "y2 = [obs2(xi) for xi in x]\n",
    "#plt.plot(x, y2, label=\"2\")\n",
    "\n",
    "\n",
    "\n",
    "#plt.ylim(-1, 0.1)\n",
    "plt.grid()\n",
    "plt.legend()\n"
   ]
  },
  {
   "cell_type": "code",
   "execution_count": 10,
   "metadata": {},
   "outputs": [
    {
     "name": "stderr",
     "output_type": "stream",
     "text": [
      "/tmp/ipykernel_3525/2109595375.py:4: RuntimeWarning: divide by zero encountered in double_scalars\n",
      "  return (r - s)**2 / s\n",
      "/tmp/ipykernel_3525/2109595375.py:10: RuntimeWarning: divide by zero encountered in double_scalars\n",
      "  return (-2*(r-s)*s + (r-s)) / s**2\n"
     ]
    },
    {
     "data": {
      "text/plain": [
       "<matplotlib.legend.Legend at 0x7f806c0fe280>"
      ]
     },
     "execution_count": 10,
     "metadata": {},
     "output_type": "execute_result"
    },
    {
     "data": {
      "image/png": "[encoded data removed]",
      "text/plain": [
       "<Figure size 432x288 with 1 Axes>"
      ]
     },
     "metadata": {
      "needs_background": "light"
     },
     "output_type": "display_data"
    }
   ],
   "source": [
    "z = [w2(xi) for xi in x]\n",
    "z_dot = [w2_dot(xi) for xi in x]\n",
    "zz_dot = [w2(xi)*w2_dot(xi) for xi in x]\n",
    "plt.plot(x, z, label=\"w2\")\n",
    "plt.plot(x, z_dot, label=\"w2_dot\")\n",
    "plt.plot(x, zz_dot, label=\"w2w2_dot\")\n",
    "plt.ylim(-1, 2)\n",
    "plt.legend()"
   ]
  },
  {
   "cell_type": "code",
   "execution_count": 4,
   "metadata": {},
   "outputs": [
    {
     "ename": "NameError",
     "evalue": "name 'sol' is not defined",
     "output_type": "error",
     "traceback": [
      "\u001b[0;31m---------------------------------------------------------------------------\u001b[0m",
      "\u001b[0;31mNameError\u001b[0m                                 Traceback (most recent call last)",
      "\u001b[1;32mセル4 を /home/matsuta/src/rmp-py/misc/pot.ipynb\u001b[0m in \u001b[0;36m<cell line: 1>\u001b[0;34m()\u001b[0m\n\u001b[0;32m----> <a href='vscode-notebook-cell://wsl%2Bubuntu-22.04/home/matsuta/src/rmp-py/misc/pot.ipynb#W3sdnNjb2RlLXJlbW90ZQ%3D%3D?line=0'>1</a>\u001b[0m sol\u001b[39m.\u001b[39mt\n",
      "\u001b[0;31mNameError\u001b[0m: name 'sol' is not defined"
     ]
    }
   ],
   "source": [
    "sol.t"
   ]
  },
  {
   "cell_type": "code",
   "execution_count": null,
   "metadata": {},
   "outputs": [
    {
     "name": "stdout",
     "output_type": "stream",
     "text": [
      "t = 0, s = 0.1\n",
      "[583.1999999999998]\n",
      "t = 0, s = 0.2\n",
      "[38.4]\n",
      "t = 0, s = 0.3\n",
      "[5.08148148148148]\n",
      "t = 0, s = 1\n",
      "[0]\n",
      "t = 0, s = 2\n",
      "[0]\n"
     ]
    }
   ],
   "source": [
    "for i in [0.1, 0.2, 0.3, 1, 2]: print(grad(0, i))"
   ]
  }
 ],
 "metadata": {
  "kernelspec": {
   "display_name": "Python 3.9.12 ('base')",
   "language": "python",
   "name": "python3"
  },
  "language_info": {
   "codemirror_mode": {
    "name": "ipython",
    "version": 3
   },
   "file_extension": ".py",
   "mimetype": "text/x-python",
   "name": "python",
   "nbconvert_exporter": "python",
   "pygments_lexer": "ipython3",
   "version": "3.9.12 (main, Apr  5 2022, 06:56:58) \n[GCC 7.5.0]"
  },
  "orig_nbformat": 4,
  "vscode": {
   "interpreter": {
    "hash": "368756e83d2084993ac505becbe47825c8a72b0fc53c20a5043bb5b908d065dc"
   }
  }
 },
 "nbformat": 4,
 "nbformat_minor": 2
}
