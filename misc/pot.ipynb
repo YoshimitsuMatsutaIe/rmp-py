{
 "cells": [
  {
   "cell_type": "code",
   "execution_count": 13,
   "metadata": {},
   "outputs": [],
   "source": [
    "import numpy as np\n",
    "import matplotlib.pyplot as plt\n",
    "from scipy import integrate as integrate"
   ]
  },
  {
   "cell_type": "code",
   "execution_count": 39,
   "metadata": {},
   "outputs": [
    {
     "name": "stdout",
     "output_type": "stream",
     "text": [
      "t = 1.0, s = [0.001]\n",
      "t = 0.9999999999999899, s = [[0.00099]]\n",
      "t = 0.999999999999799, s = [0.00080001]\n",
      "t = 0.9999999999996985, s = [0.00048514]\n",
      "t = 0.999999999999196, s = [-0.02389705]\n",
      "t = 0.9999999999991067, s = [-0.06552835]\n",
      "t = 0.999999999998995, s = [-0.05901405]\n",
      "t = 0.999999999998995, s = [-0.00303538]\n",
      "t = 0.9999999999998826, s = [0.00088328]\n",
      "t = 0.999999999999824, s = [0.00076557]\n",
      "t = 0.9999999999995308, s = [-0.00103709]\n",
      "t = 0.9999999999994786, s = [-0.00384208]\n",
      "t = 0.9999999999994135, s = [-0.00299892]\n",
      "t = 0.9999999999994135, s = [0.00070542]\n",
      "t = 0.9999999999999476, s = [0.00094786]\n",
      "t = 0.9999999999999214, s = [0.00091155]\n",
      "t = 0.9999999999997904, s = [0.00066394]\n",
      "t = 0.9999999999997671, s = [0.00065803]\n",
      "t = 0.999999999999738, s = [0.00048747]\n",
      "t = 0.999999999999738, s = [0.00024063]\n",
      "t = 0.9999999999999836, s = [0.00098365]\n",
      "t = 0.9999999999999754, s = [0.00097454]\n",
      "t = 0.9999999999999343, s = [0.00092668]\n",
      "t = 0.999999999999927, s = [0.00091689]\n",
      "t = 0.9999999999999178, s = [0.00090506]\n",
      "t = 0.9999999999999178, s = [0.00090572]\n",
      "t = 0.9999999999999014, s = [0.00088371]\n",
      "t = 0.9999999999998932, s = [0.0008708]\n",
      "t = 0.9999999999998521, s = [0.00080011]\n",
      "t = 0.9999999999998448, s = [0.00078467]\n",
      "t = 0.9999999999998357, s = [0.00076596]\n",
      "t = 0.9999999999998357, s = [0.00076679]\n",
      "t = 0.9999999999997883, s = [0.00066199]\n",
      "t = 0.9999999999997645, s = [0.00054417]\n",
      "t = 0.999999999999646, s = [-0.00192218]\n",
      "t = 0.9999999999996249, s = [-0.00575918]\n",
      "t = 0.9999999999995985, s = [-0.00502249]\n",
      "t = 0.9999999999995985, s = [8.14914702e-05]\n",
      "t = 0.9999999999998263, s = [0.00074584]\n",
      "t = 0.9999999999998215, s = [0.00073332]\n",
      "t = 0.9999999999997977, s = [0.00066349]\n",
      "t = 0.9999999999997935, s = [0.00064804]\n",
      "t = 0.9999999999997883, s = [0.00062894]\n",
      "t = 0.9999999999997883, s = [0.00062921]\n",
      "t = 0.9999999999997788, s = [0.00059127]\n",
      "t = 0.9999999999997741, s = [0.00056354]\n",
      "t = 0.9999999999997503, s = [0.0003582]\n",
      "t = 0.9999999999997461, s = [0.00042533]\n",
      "t = 0.9999999999997409, s = [7.79816798e-05]\n",
      "t = 0.9999999999997409, s = [-0.01306482]\n",
      "t = 0.9999999999997855, s = [0.00061828]\n",
      "t = 0.9999999999997842, s = [0.00061216]\n",
      "t = 0.9999999999997774, s = [0.0005798]\n",
      "t = 0.9999999999997762, s = [0.00057312]\n",
      "t = 0.9999999999997746, s = [0.00056506]\n",
      "t = 0.9999999999997746, s = [0.00056553]\n",
      "t = 0.9999999999997718, s = [0.00055047]\n",
      "t = 0.9999999999997705, s = [0.00054151]\n",
      "t = 0.9999999999997637, s = [0.00049176]\n",
      "t = 0.9999999999997625, s = [0.00048078]\n",
      "t = 0.999999999999761, s = [0.00046728]\n",
      "t = 0.999999999999761, s = [0.00046759]\n",
      "t = 0.9999999999997538, s = [0.00039739]\n",
      "t = 0.9999999999997502, s = [0.00031255]\n",
      "t = 0.9999999999997322, s = [-0.00192233]\n",
      "t = 0.999999999999729, s = [-0.00549145]\n",
      "t = 0.999999999999725, s = [-0.00485275]\n",
      "t = 0.999999999999725, s = [-8.95434963e-05]\n",
      "t = 0.9999999999997593, s = [0.00045112]\n",
      "t = 0.9999999999997584, s = [0.00044078]\n",
      "t = 0.9999999999997542, s = [0.00037988]\n",
      "t = 0.9999999999997534, s = [0.00036679]\n",
      "t = 0.9999999999997525, s = [0.00034802]\n",
      "t = 0.9999999999997525, s = [0.00034476]\n",
      "t = 0.9999999999997509, s = [0.00030365]\n",
      "t = 0.99999999999975, s = [0.00026164]\n",
      "t = 0.9999999999997458, s = [-0.00040559]\n",
      "t = 0.999999999999745, s = [-0.00143106]\n",
      "t = 0.9999999999997441, s = [-0.00115892]\n",
      "t = 0.9999999999997441, s = [0.00019696]\n",
      "t = 0.9999999999997518, s = [0.00032529]\n",
      "t = 0.9999999999997513, s = [0.00031138]\n",
      "t = 0.9999999999997493, s = [0.00021238]\n",
      "t = 0.999999999999749, s = [0.00022436]\n",
      "t = 0.9999999999997485, s = [0.00011813]\n",
      "t = 0.9999999999997485, s = [-0.00019819]\n",
      "t = 0.9999999999997522, s = [0.00033773]\n",
      "t = 0.9999999999997521, s = [0.00033371]\n",
      "t = 0.9999999999997514, s = [0.00031217]\n",
      "t = 0.9999999999997512, s = [0.00030759]\n",
      "t = 0.9999999999997511, s = [0.00030209]\n",
      "t = 0.9999999999997511, s = [0.00030242]\n",
      "t = 0.9999999999997508, s = [0.000292]\n",
      "t = 0.9999999999997506, s = [0.00028549]\n",
      "t = 0.99999999999975, s = [0.00024735]\n",
      "t = 0.9999999999997498, s = [0.00023908]\n",
      "t = 0.9999999999997496, s = [0.0002275]\n",
      "t = 0.9999999999997496, s = [0.0002258]\n",
      "t = 0.9999999999997491, s = [0.00018149]\n",
      "t = 0.9999999999997489, s = [0.00011316]\n",
      "t = 0.9999999999997476, s = [-0.00465917]\n",
      "t = 0.9999999999997474, s = [-0.01277852]\n",
      "t = 0.9999999999997471, s = [-0.0114987]\n",
      "t = 0.9999999999997471, s = [-0.00058551]\n",
      "t = 0.9999999999997493, s = [0.0001969]\n",
      "t = 0.9999999999997491, s = [0.00016593]\n",
      "t = 0.9999999999997483, s = [-0.0003969]\n",
      "t = 0.9999999999997482, s = [-0.00125926]\n",
      "t = 0.999999999999748, s = [-0.00107781]\n",
      "t = 0.999999999999748, s = [6.62865392e-05]\n"
     ]
    },
    {
     "name": "stderr",
     "output_type": "stream",
     "text": [
      "/tmp/ipykernel_757041/2797326611.py:24: RuntimeWarning: divide by zero encountered in double_scalars\n",
      "  return 1/s\n"
     ]
    },
    {
     "data": {
      "text/plain": [
       "<matplotlib.legend.Legend at 0x7f422a17d330>"
      ]
     },
     "execution_count": 39,
     "metadata": {},
     "output_type": "execute_result"
    },
    {
     "data": {
      "image/png": "[encoded data removed]",
      "text/plain": [
       "<Figure size 432x288 with 1 Axes>"
      ]
     },
     "metadata": {
      "needs_background": "light"
     },
     "output_type": "display_data"
    }
   ],
   "source": [
    "r = 1\n",
    "def w2(s):\n",
    "    if r - s > 0:\n",
    "        return (r - s)**2 / s\n",
    "    else:\n",
    "        return 0\n",
    "\n",
    "def w2_dot(s):\n",
    "    if r - s > 0:\n",
    "        return (-2*(r-s)*s + (r-s)) / s**2\n",
    "    else:\n",
    "        return 0\n",
    "\n",
    "def grad(t, s):\n",
    "    print(\"t = {0}, s = {1}\".format(t, s))\n",
    "    return [w2(s) * w2_dot(s)]\n",
    "\n",
    "x = np.arange(0, 2, 0.01)\n",
    "\n",
    "sol = integrate.solve_ivp(grad, [r, 0.5], y0=[0.001])\n",
    "plt.plot(sol.t, sol.y[0], label=\"ori\")\n",
    "\n",
    "def obs2(s):\n",
    "    return 1/s\n",
    "y2 = [obs2(xi) for xi in x]\n",
    "#plt.plot(x, y2, label=\"2\")\n",
    "\n",
    "\n",
    "\n",
    "#plt.ylim(-1, 10)\n",
    "plt.grid()\n",
    "plt.legend()\n"
   ]
  },
  {
   "cell_type": "code",
   "execution_count": 40,
   "metadata": {},
   "outputs": [
    {
     "data": {
      "text/plain": [
       "array([1., 1., 1., 1., 1., 1., 1., 1., 1.])"
      ]
     },
     "execution_count": 40,
     "metadata": {},
     "output_type": "execute_result"
    }
   ],
   "source": [
    "sol.t"
   ]
  },
  {
   "cell_type": "code",
   "execution_count": 25,
   "metadata": {},
   "outputs": [
    {
     "name": "stdout",
     "output_type": "stream",
     "text": [
      "[583.1999999999998]\n",
      "[38.4]\n",
      "[5.08148148148148]\n",
      "[0]\n",
      "[0]\n"
     ]
    }
   ],
   "source": [
    "for i in [0.1, 0.2, 0.3, 1, 2]: print(grad(0, i))"
   ]
  }
 ],
 "metadata": {
  "kernelspec": {
   "display_name": "py10",
   "language": "python",
   "name": "python3"
  },
  "language_info": {
   "codemirror_mode": {
    "name": "ipython",
    "version": 3
   },
   "file_extension": ".py",
   "mimetype": "text/x-python",
   "name": "python",
   "nbconvert_exporter": "python",
   "pygments_lexer": "ipython3",
   "version": "3.10.4"
  },
  "orig_nbformat": 4,
  "vscode": {
   "interpreter": {
    "hash": "874f112d5cd2f37427a47785893364089388359d34c9e648f15286039867cd34"
   }
  }
 },
 "nbformat": 4,
 "nbformat_minor": 2
}
