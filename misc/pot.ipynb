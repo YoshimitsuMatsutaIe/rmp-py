{
 "cells": [
  {
   "cell_type": "code",
   "execution_count": 1,
   "metadata": {},
   "outputs": [],
   "source": [
    "import numpy as np\n",
    "import matplotlib.pyplot as plt\n",
    "from scipy import integrate as integrate"
   ]
  },
  {
   "cell_type": "code",
   "execution_count": 30,
   "metadata": {},
   "outputs": [
    {
     "name": "stdout",
     "output_type": "stream",
     "text": [
      "t = 0, s = 0.9800000000000005\n",
      "t = 0, s = 0.9700000000000005\n",
      "t = 0, s = 0.9600000000000005\n",
      "t = 0, s = 0.9500000000000005\n",
      "t = 0, s = 0.9400000000000005\n",
      "t = 0, s = 0.9300000000000005\n",
      "t = 0, s = 0.9200000000000005\n",
      "t = 0, s = 0.9100000000000005\n",
      "t = 0, s = 0.9000000000000005\n",
      "t = 0, s = 0.8900000000000005\n",
      "t = 0, s = 0.8800000000000004\n",
      "t = 0, s = 0.8700000000000004\n",
      "t = 0, s = 0.8600000000000004\n",
      "t = 0, s = 0.8500000000000004\n",
      "t = 0, s = 0.8400000000000004\n",
      "t = 0, s = 0.8300000000000004\n",
      "t = 0, s = 0.8200000000000004\n",
      "t = 0, s = 0.8100000000000004\n",
      "t = 0, s = 0.8000000000000004\n",
      "t = 0, s = 0.7900000000000004\n",
      "t = 0, s = 0.7800000000000004\n",
      "t = 0, s = 0.7700000000000004\n",
      "t = 0, s = 0.7600000000000003\n",
      "t = 0, s = 0.7500000000000003\n",
      "t = 0, s = 0.7400000000000003\n",
      "t = 0, s = 0.7300000000000003\n",
      "t = 0, s = 0.7200000000000003\n",
      "t = 0, s = 0.7100000000000003\n",
      "t = 0, s = 0.7000000000000003\n",
      "t = 0, s = 0.6900000000000003\n",
      "t = 0, s = 0.6800000000000003\n",
      "t = 0, s = 0.6700000000000003\n",
      "t = 0, s = 0.6600000000000003\n",
      "t = 0, s = 0.6500000000000002\n",
      "t = 0, s = 0.6400000000000002\n",
      "t = 0, s = 0.6300000000000002\n",
      "t = 0, s = 0.6200000000000002\n",
      "t = 0, s = 0.6100000000000002\n",
      "t = 0, s = 0.6000000000000002\n",
      "t = 0, s = 0.5900000000000002\n",
      "t = 0, s = 0.5800000000000002\n",
      "t = 0, s = 0.5700000000000002\n",
      "t = 0, s = 0.5600000000000002\n",
      "t = 0, s = 0.5500000000000002\n",
      "t = 0, s = 0.5400000000000001\n",
      "t = 0, s = 0.5300000000000001\n",
      "t = 0, s = 0.5200000000000001\n",
      "t = 0, s = 0.5100000000000001\n",
      "t = 0, s = 0.5000000000000001\n",
      "t = 0, s = 0.4900000000000001\n",
      "t = 0, s = 0.4800000000000001\n",
      "t = 0, s = 0.4700000000000001\n",
      "t = 0, s = 0.4600000000000001\n",
      "t = 0, s = 0.45000000000000007\n",
      "t = 0, s = 0.44000000000000006\n",
      "t = 0, s = 0.43000000000000005\n",
      "t = 0, s = 0.42000000000000004\n",
      "t = 0, s = 0.41000000000000003\n",
      "t = 0, s = 0.4\n",
      "[1e-05, 9.99184013463778e-06, 9.96403170818055e-06, 9.897480782254627e-06, 9.76626631950496e-06, 9.537415294202287e-06, 9.1706875849886e-06, 8.61837394974574e-06, 7.825110939359206e-06, 6.7277172493729395e-06, 5.255056749407712e-06, 3.3279342850951876e-06, 8.590313340076704e-07, -2.24711026358748e-06, -6.094046962142301e-06, -1.0793323498153493e-05, -1.6464281389815905e-05, -2.3233771095420828e-05, -3.123575061901794e-05, -4.061075061901789e-05, -5.150518290530756e-05, -6.407046552976171e-05, -7.846193339736377e-05, -9.483749834852275e-05, -0.0001133560168670412, -0.00013417531680978885, -0.0001574498266641139, -0.00018332774161610284, -0.0002119476499173285, -0.0002434345303838007, -0.00027789501700669375, -0.0003154118091906953, -0.000356037085571101, -0.00039978475510389443, -0.0004466213504611998, -0.0004964553348361997, -0.0005491245530231805, -0.0006043815098222137, -0.0006618761018805798, -0.000721135361139839, -0.0007815396868011773, -0.0008422949453193617, -0.0009023997008986762, -0.0009606066979832244, -0.0010153775469689495, -0.0010648293581765908, -0.001106671818731277, -0.00113813290202668, -0.0011558710268806203, -0.0011558710268806205, -0.0011333207289605364, -0.0010824642474790553, -0.00099642724219121, -0.0008670083221616222, -0.0006844294469901548, -0.00043703650934928375, -0.00011093918458542692, 0.00031042351922625606, 0.0008468089460192506, 0.0015218089460192503]\n"
     ]
    },
    {
     "name": "stderr",
     "output_type": "stream",
     "text": [
      "/tmp/ipykernel_773981/4080833615.py:36: RuntimeWarning: divide by zero encountered in double_scalars\n",
      "  return 1/s\n"
     ]
    },
    {
     "data": {
      "text/plain": [
       "<matplotlib.legend.Legend at 0x7f446b112350>"
      ]
     },
     "execution_count": 30,
     "metadata": {},
     "output_type": "execute_result"
    },
    {
     "data": {
      "image/png": "[encoded data removed]",
      "text/plain": [
       "<Figure size 432x288 with 1 Axes>"
      ]
     },
     "metadata": {
      "needs_background": "light"
     },
     "output_type": "display_data"
    }
   ],
   "source": [
    "r = 1\n",
    "def w2(s):\n",
    "    if r - s > 0:\n",
    "        return (r - s)**2 / s\n",
    "    else:\n",
    "        return 0\n",
    "\n",
    "def w2_dot(s):\n",
    "    if r - s > 0:\n",
    "        return (-2*(r-s)*s + (r-s)) / s**2\n",
    "    else:\n",
    "        return 0\n",
    "\n",
    "def grad(t, s):\n",
    "    print(\"t = {0}, s = {1}\".format(t, s))\n",
    "    return [w2(s) * w2_dot(s)]\n",
    "\n",
    "x = np.arange(0, 2, 0.01)\n",
    "\n",
    "\n",
    "oi = [0.00001]\n",
    "t = [xi for xi in np.arange(0.4, 1.0, 0.01)]\n",
    "t = list(reversed(t))\n",
    "for xi in t[1:]:\n",
    "    oi.append(\n",
    "        oi[-1] + grad(0, xi)[0]*0.001\n",
    "    )\n",
    "print(oi)\n",
    "plt.plot(t, oi, label=\"pot\")\n",
    "\n",
    "# sol = integrate.solve_ivp(grad, [r, 0.5], y0=[0.001])\n",
    "# print(sol.message)\n",
    "# plt.plot(sol.t, sol.y[0], label=\"ori\")\n",
    "\n",
    "def obs2(s):\n",
    "    return 1/s\n",
    "y2 = [obs2(xi) for xi in x]\n",
    "#plt.plot(x, y2, label=\"2\")\n",
    "\n",
    "\n",
    "\n",
    "#plt.ylim(-1, 0.1)\n",
    "plt.grid()\n",
    "plt.legend()\n"
   ]
  },
  {
   "cell_type": "code",
   "execution_count": 11,
   "metadata": {},
   "outputs": [
    {
     "name": "stderr",
     "output_type": "stream",
     "text": [
      "/tmp/ipykernel_773981/3448313529.py:4: RuntimeWarning: divide by zero encountered in double_scalars\n",
      "  return (r - s)**2 / s\n",
      "/tmp/ipykernel_773981/3448313529.py:10: RuntimeWarning: divide by zero encountered in double_scalars\n",
      "  return (-2*(r-s)*s + (r-s)) / s**2\n"
     ]
    },
    {
     "data": {
      "text/plain": [
       "<matplotlib.legend.Legend at 0x7f446fe82200>"
      ]
     },
     "execution_count": 11,
     "metadata": {},
     "output_type": "execute_result"
    },
    {
     "data": {
      "image/png": "[encoded data removed]",
      "text/plain": [
       "<Figure size 432x288 with 1 Axes>"
      ]
     },
     "metadata": {
      "needs_background": "light"
     },
     "output_type": "display_data"
    }
   ],
   "source": [
    "z = [w2(xi) for xi in x]\n",
    "z_dot = [w2_dot(xi) for xi in x]\n",
    "zz_dot = [w2(xi)*w2_dot(xi) for xi in x]\n",
    "plt.plot(x, z, label=\"w2\")\n",
    "plt.plot(x, z_dot, label=\"w2_dot\")\n",
    "plt.plot(x, zz_dot, label=\"w2w2_dot\")\n",
    "plt.ylim(-1, 2)\n",
    "plt.legend()"
   ]
  },
  {
   "cell_type": "code",
   "execution_count": 3,
   "metadata": {},
   "outputs": [
    {
     "data": {
      "text/plain": [
       "array([1., 1., 1., 1., 1., 1., 1., 1., 1.])"
      ]
     },
     "execution_count": 3,
     "metadata": {},
     "output_type": "execute_result"
    }
   ],
   "source": [
    "sol.t"
   ]
  },
  {
   "cell_type": "code",
   "execution_count": 4,
   "metadata": {},
   "outputs": [
    {
     "name": "stdout",
     "output_type": "stream",
     "text": [
      "t = 0, s = 0.1\n",
      "[583.1999999999998]\n",
      "t = 0, s = 0.2\n",
      "[38.4]\n",
      "t = 0, s = 0.3\n",
      "[5.08148148148148]\n",
      "t = 0, s = 1\n",
      "[0]\n",
      "t = 0, s = 2\n",
      "[0]\n"
     ]
    }
   ],
   "source": [
    "for i in [0.1, 0.2, 0.3, 1, 2]: print(grad(0, i))"
   ]
  }
 ],
 "metadata": {
  "kernelspec": {
   "display_name": "py10",
   "language": "python",
   "name": "python3"
  },
  "language_info": {
   "codemirror_mode": {
    "name": "ipython",
    "version": 3
   },
   "file_extension": ".py",
   "mimetype": "text/x-python",
   "name": "python",
   "nbconvert_exporter": "python",
   "pygments_lexer": "ipython3",
   "version": "3.10.4"
  },
  "orig_nbformat": 4,
  "vscode": {
   "interpreter": {
    "hash": "874f112d5cd2f37427a47785893364089388359d34c9e648f15286039867cd34"
   }
  }
 },
 "nbformat": 4,
 "nbformat_minor": 2
}
