{
 "cells": [
  {
   "cell_type": "code",
   "execution_count": 1,
   "metadata": {},
   "outputs": [],
   "source": [
    "def translate(original, done):\n",
    "    with open(original, \"r\") as f, open(done, \"w\") as g:\n",
    "        file_data = f.readlines()\n",
    "        for line in file_data:\n",
    "            line = line.replace('q[0, 0]', 'q0').replace('q[1, 0]', 'q1').replace('q[2, 0]', 'q2').replace('q[3, 0]', 'q3').replace('q[4, 0]', 'q4').replace('q[5, 0]', 'q5').replace('q[6, 0]', 'q6')\n",
    "            line = line.replace('0, ', '0., ').replace('0]', '0.]')\n",
    "            line = line.replace('q0.,', 'q0,')\n",
    "            \n",
    "            g.write(line)"
   ]
  },
  {
   "cell_type": "code",
   "execution_count": null,
   "metadata": {},
   "outputs": [],
   "source": []
  },
  {
   "cell_type": "code",
   "execution_count": 3,
   "metadata": {},
   "outputs": [],
   "source": [
    "translate(\"htm.py\", \"done/htm.py\")\n",
    "translate(\"Jos.py\", \"done/Jos.py\")\n",
    "translate(\"JRxs.py\", \"done/JRxs.py\")\n",
    "translate(\"JRys.py\", \"done/JRys.py\")\n",
    "translate(\"JRzs.py\", \"done/JRzs.py\")\n",
    "translate(\"Jo_dots.py\", \"done/Jo_dots.py\")\n",
    "translate(\"JRx_dots.py\", \"done/JRx_dots.py\")\n",
    "translate(\"JRy_dots.py\", \"done/JRy_dots.py\")\n",
    "translate(\"JRz_dots.py\", \"done/JRz_dots.py\")"
   ]
  },
  {
   "cell_type": "code",
   "execution_count": null,
   "metadata": {},
   "outputs": [],
   "source": [
    "    q0 = q[0, 0]\n",
    "    q1 = q[1, 0]\n",
    "    q2 = q[2, 0]\n",
    "    q3 = q[3, 0]\n",
    "    q4 = q[4, 0]\n",
    "    q5 = q[5, 0]\n",
    "    q6 = q[6, 0]\n",
    "    dq0 = dq[0, 0]\n",
    "    dq1 = dq[1, 0]\n",
    "    dq2 = dq[2, 0]\n",
    "    dq3 = dq[3, 0]\n",
    "    dq4 = dq[4, 0]\n",
    "    dq5 = dq[5, 0]\n",
    "    dq6 = dq[6, 0]"
   ]
  }
 ],
 "metadata": {
  "kernelspec": {
   "display_name": "Python 3.9.12 ('base')",
   "language": "python",
   "name": "python3"
  },
  "language_info": {
   "codemirror_mode": {
    "name": "ipython",
    "version": 3
   },
   "file_extension": ".py",
   "mimetype": "text/x-python",
   "name": "python",
   "nbconvert_exporter": "python",
   "pygments_lexer": "ipython3",
   "version": "3.9.12"
  },
  "orig_nbformat": 4,
  "vscode": {
   "interpreter": {
    "hash": "368756e83d2084993ac505becbe47825c8a72b0fc53c20a5043bb5b908d065dc"
   }
  }
 },
 "nbformat": 4,
 "nbformat_minor": 2
}
