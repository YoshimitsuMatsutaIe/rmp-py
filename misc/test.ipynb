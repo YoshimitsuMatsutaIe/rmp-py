{
 "cells": [
  {
   "cell_type": "code",
   "execution_count": 8,
   "metadata": {},
   "outputs": [
    {
     "ename": "TypeError",
     "evalue": "'bool' object is not callable",
     "output_type": "error",
     "traceback": [
      "\u001b[0;31m---------------------------------------------------------------------------\u001b[0m",
      "\u001b[0;31mTypeError\u001b[0m                                 Traceback (most recent call last)",
      "\u001b[1;32mセル1 を /home/matsuta_conda/src/rmp-py/misc/test.ipynb\u001b[0m in \u001b[0;36m<cell line: 8>\u001b[0;34m()\u001b[0m\n\u001b[1;32m      <a href='vscode-notebook-cell:/home/matsuta_conda/src/rmp-py/misc/test.ipynb#ch0000000?line=3'>4</a>\u001b[0m \u001b[39mwith\u001b[39;00m \u001b[39mopen\u001b[39m(\u001b[39m\"\u001b[39m\u001b[39m../config/franka_ex.xml\u001b[39m\u001b[39m\"\u001b[39m) \u001b[39mas\u001b[39;00m f:\n\u001b[1;32m      <a href='vscode-notebook-cell:/home/matsuta_conda/src/rmp-py/misc/test.ipynb#ch0000000?line=4'>5</a>\u001b[0m     hoge \u001b[39m=\u001b[39m f\u001b[39m.\u001b[39mread()\n\u001b[0;32m----> <a href='vscode-notebook-cell:/home/matsuta_conda/src/rmp-py/misc/test.ipynb#ch0000000?line=7'>8</a>\u001b[0m dict_xml \u001b[39m=\u001b[39m xmltodict\u001b[39m.\u001b[39;49mparse(hoge, postprocessor\u001b[39m=\u001b[39;49m\u001b[39mTrue\u001b[39;49;00m)\n\u001b[1;32m     <a href='vscode-notebook-cell:/home/matsuta_conda/src/rmp-py/misc/test.ipynb#ch0000000?line=9'>10</a>\u001b[0m dict_xml\n",
      "File \u001b[0;32m~/anaconda3/envs/py10/lib/python3.10/site-packages/xmltodict.py:327\u001b[0m, in \u001b[0;36mparse\u001b[0;34m(xml_input, encoding, expat, process_namespaces, namespace_separator, disable_entities, **kwargs)\u001b[0m\n\u001b[1;32m    325\u001b[0m     parser\u001b[39m.\u001b[39mParseFile(xml_input)\n\u001b[1;32m    326\u001b[0m \u001b[39melse\u001b[39;00m:\n\u001b[0;32m--> 327\u001b[0m     parser\u001b[39m.\u001b[39;49mParse(xml_input, \u001b[39mTrue\u001b[39;49;00m)\n\u001b[1;32m    328\u001b[0m \u001b[39mreturn\u001b[39;00m handler\u001b[39m.\u001b[39mitem\n",
      "File \u001b[0;32m/opt/conda/conda-bld/python-split_1648715631366/work/Modules/pyexpat.c:470\u001b[0m, in \u001b[0;36mEndElement\u001b[0;34m()\u001b[0m\n",
      "File \u001b[0;32m~/anaconda3/envs/py10/lib/python3.10/site-packages/xmltodict.py:143\u001b[0m, in \u001b[0;36m_DictSAXHandler.endElement\u001b[0;34m(self, full_name)\u001b[0m\n\u001b[1;32m    141\u001b[0m         \u001b[39mself\u001b[39m\u001b[39m.\u001b[39mitem \u001b[39m=\u001b[39m \u001b[39mself\u001b[39m\u001b[39m.\u001b[39mpush_data(\u001b[39mself\u001b[39m\u001b[39m.\u001b[39mitem, name, item)\n\u001b[1;32m    142\u001b[0m     \u001b[39melse\u001b[39;00m:\n\u001b[0;32m--> 143\u001b[0m         \u001b[39mself\u001b[39m\u001b[39m.\u001b[39mitem \u001b[39m=\u001b[39m \u001b[39mself\u001b[39;49m\u001b[39m.\u001b[39;49mpush_data(\u001b[39mself\u001b[39;49m\u001b[39m.\u001b[39;49mitem, name, data)\n\u001b[1;32m    144\u001b[0m \u001b[39melse\u001b[39;00m:\n\u001b[1;32m    145\u001b[0m     \u001b[39mself\u001b[39m\u001b[39m.\u001b[39mitem \u001b[39m=\u001b[39m \u001b[39mNone\u001b[39;00m\n",
      "File \u001b[0;32m~/anaconda3/envs/py10/lib/python3.10/site-packages/xmltodict.py:157\u001b[0m, in \u001b[0;36m_DictSAXHandler.push_data\u001b[0;34m(self, item, key, data)\u001b[0m\n\u001b[1;32m    155\u001b[0m \u001b[39mdef\u001b[39;00m \u001b[39mpush_data\u001b[39m(\u001b[39mself\u001b[39m, item, key, data):\n\u001b[1;32m    156\u001b[0m     \u001b[39mif\u001b[39;00m \u001b[39mself\u001b[39m\u001b[39m.\u001b[39mpostprocessor \u001b[39mis\u001b[39;00m \u001b[39mnot\u001b[39;00m \u001b[39mNone\u001b[39;00m:\n\u001b[0;32m--> 157\u001b[0m         result \u001b[39m=\u001b[39m \u001b[39mself\u001b[39;49m\u001b[39m.\u001b[39;49mpostprocessor(\u001b[39mself\u001b[39;49m\u001b[39m.\u001b[39;49mpath, key, data)\n\u001b[1;32m    158\u001b[0m         \u001b[39mif\u001b[39;00m result \u001b[39mis\u001b[39;00m \u001b[39mNone\u001b[39;00m:\n\u001b[1;32m    159\u001b[0m             \u001b[39mreturn\u001b[39;00m item\n",
      "\u001b[0;31mTypeError\u001b[0m: 'bool' object is not callable"
     ]
    }
   ],
   "source": [
    "import xmltodict\n",
    "\n",
    "\n",
    "with open(\"../config/franka_ex.xml\") as f:\n",
    "    hoge = f.read()\n",
    "\n",
    "\n",
    "def postprocessor(path, key, value):\n",
    "    try:\n",
    "        return key, int(value)\n",
    "\n",
    "dict_xml = xmltodict.parse(hoge, postprocessor=True)\n",
    "\n",
    "dict_xml"
   ]
  },
  {
   "cell_type": "code",
   "execution_count": 6,
   "metadata": {},
   "outputs": [
    {
     "data": {
      "text/plain": [
       "{'type': 'cylinder',\n",
       " 'param': {'r': 0.05,\n",
       "  'L': 1.2,\n",
       "  'x': 0.3,\n",
       "  'y': 0.0,\n",
       "  'z': 0.6,\n",
       "  'n': 200,\n",
       "  'alpha': 0.0,\n",
       "  'beta': 0.0,\n",
       "  'gamma': 90.0}}"
      ]
     },
     "execution_count": 6,
     "metadata": {},
     "output_type": "execute_result"
    }
   ],
   "source": [
    "import json\n",
    "\n",
    "with open(\"../config/franka.json\", mode=\"r\") as f:\n",
    "    d = json.load(f)\n",
    "\n",
    "\n",
    "d[\"env_param\"][\"obstacle\"][0]"
   ]
  }
 ],
 "metadata": {
  "kernelspec": {
   "display_name": "Python 3.9.12 ('base')",
   "language": "python",
   "name": "python3"
  },
  "language_info": {
   "codemirror_mode": {
    "name": "ipython",
    "version": 3
   },
   "file_extension": ".py",
   "mimetype": "text/x-python",
   "name": "python",
   "nbconvert_exporter": "python",
   "pygments_lexer": "ipython3",
   "version": "3.9.12"
  },
  "orig_nbformat": 4,
  "vscode": {
   "interpreter": {
    "hash": "368756e83d2084993ac505becbe47825c8a72b0fc53c20a5043bb5b908d065dc"
   }
  }
 },
 "nbformat": 4,
 "nbformat_minor": 2
}
