{
 "cells": [
  {
   "cell_type": "code",
   "execution_count": 10,
   "metadata": {},
   "outputs": [],
   "source": [
    "\"\"\"真の並列化\"\"\"\n",
    "\n",
    "import numpy as np\n",
    "\n",
    "\n",
    "a = np.array([[1, 2, 3]]).T\n",
    "\n",
    "b = np.random.rand(3, 10000)\n",
    "\n",
    "b_ = [b[:, i:i+1] for i in range(b.shape[1])]"
   ]
  },
  {
   "cell_type": "code",
   "execution_count": 13,
   "metadata": {},
   "outputs": [
    {
     "data": {
      "text/plain": [
       "array([2.88559173, 3.20308145, 3.31707898, ..., 2.75208899, 2.89922856,\n",
       "       3.40774691])"
      ]
     },
     "execution_count": 13,
     "metadata": {},
     "output_type": "execute_result"
    }
   ],
   "source": [
    "np.linalg.norm(a - b, axis=0)"
   ]
  },
  {
   "cell_type": "code",
   "execution_count": 14,
   "metadata": {},
   "outputs": [],
   "source": [
    "s = []\n",
    "for bi in b_:\n",
    "    s.append(np.linalg.norm(a - bi))"
   ]
  },
  {
   "cell_type": "code",
   "execution_count": 15,
   "metadata": {},
   "outputs": [
    {
     "data": {
      "text/plain": [
       "array([[0.71448226, 0.47909194, 0.40303042, ..., 0.90949695, 0.53773534,\n",
       "        0.28893238],\n",
       "       [0.69831727, 0.53888829, 0.61847607, ..., 1.04170886, 0.83542779,\n",
       "        0.3031469 ],\n",
       "       [0.87010653, 0.48611214, 0.3300432 , ..., 0.92716241, 0.66341993,\n",
       "        0.31127127]])"
      ]
     },
     "execution_count": 15,
     "metadata": {},
     "output_type": "execute_result"
    }
   ],
   "source": [
    "A = np.random.rand(3,3)\n",
    "A @ b"
   ]
  }
 ],
 "metadata": {
  "kernelspec": {
   "display_name": "Python 3.9.12 ('base')",
   "language": "python",
   "name": "python3"
  },
  "language_info": {
   "codemirror_mode": {
    "name": "ipython",
    "version": 3
   },
   "file_extension": ".py",
   "mimetype": "text/x-python",
   "name": "python",
   "nbconvert_exporter": "python",
   "pygments_lexer": "ipython3",
   "version": "3.9.12"
  },
  "orig_nbformat": 4,
  "vscode": {
   "interpreter": {
    "hash": "368756e83d2084993ac505becbe47825c8a72b0fc53c20a5043bb5b908d065dc"
   }
  }
 },
 "nbformat": 4,
 "nbformat_minor": 2
}
