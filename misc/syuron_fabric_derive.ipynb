{
 "cells": [
  {
   "cell_type": "code",
   "execution_count": 1,
   "metadata": {},
   "outputs": [],
   "source": [
    "import sympy as sy\n",
    "from sympy import sqrt, ln, exp\n",
    "from sympy.printing.numpy import NumPyPrinter\n",
    "def norm(x):\n",
    "    dim = x.shape[0]\n",
    "    z = 0\n",
    "    for i in range(dim):\n",
    "        z += x[i,0]**2\n",
    "    return sy.sqrt(z)\n",
    "\n",
    "def s(v):\n",
    "    if v > 0:\n",
    "        return 0\n",
    "    else:\n",
    "        return 1"
   ]
  },
  {
   "cell_type": "code",
   "execution_count": 11,
   "metadata": {},
   "outputs": [
    {
     "name": "stdout",
     "output_type": "stream",
     "text": [
      "1\n",
      "2\n",
      "3\n"
     ]
    }
   ],
   "source": [
    "# ファブリック　目標アトラクタ\n",
    "m_u, m_l, alpha_m, k, alpha_psi = sy.symbols('m_u, m_l, alpha_m, k, alpha_psi')\n",
    "M_s, xi_s, grad_psi_1_s, pi_s = [], [], [], []\n",
    "for dim in [1, 2, 3]:\n",
    "    print(dim)\n",
    "    if dim == 1:\n",
    "        x, x_dot = sy.symbols(\"x, x_dot\")\n",
    "        x_norm = sqrt(x**2)\n",
    "        G = (m_u - m_l) * sy.exp(-(alpha_m * x_norm)**2) + m_l\n",
    "    else:\n",
    "        x = sy.MatrixSymbol('x', dim, 1)\n",
    "        x_dot = sy.MatrixSymbol('x_dot', dim, 1)\n",
    "        x_norm = norm(x)\n",
    "        G = (m_u - m_l) * sy.exp(-(alpha_m * x_norm)**2) * sy.eye(dim) + m_l * sy.eye(dim)\n",
    "    psi_1 = k * (x_norm + 1/alpha_psi * sy.ln(1 + sy.exp(-2 * alpha_psi * x_norm)))\n",
    "\n",
    "    if dim == 1:\n",
    "        L = x_dot**2 * G\n",
    "    else:\n",
    "        \n",
    "        L = (x_dot.T * G * x_dot)[0,0]\n",
    "    M = G\n",
    "    M_s.append(M)\n",
    "\n",
    "    if dim == 1:\n",
    "        xi = sy.diff(sy.diff(L, x_dot), x) * x_dot - sy.diff(L, x)\n",
    "        grad_psi_1 = sy.diff(grad_psi_1, x)\n",
    "    elif dim == 2:\n",
    "        xi = sy.Matrix([[sy.diff(L, x_dot[0,0]), sy.diff(L, x_dot[1,0])]]).T.jacobian(x) * x_dot \\\n",
    "            - sy.Matrix([[sy.diff(L, x[0,0])], [sy.diff(L, x[1,0])],])\n",
    "        grad_psi_1 = sy.Matrix([[sy.diff(psi_1, x[0,0]), sy.diff(psi_1, x[1,0])]]).T\n",
    "    else:\n",
    "        xi = sy.Matrix([[sy.diff(L, x_dot[0,0]), sy.diff(L, x_dot[1,0]), sy.diff(L, x_dot[2,0])]]).T.jacobian(x) * x_dot \\\n",
    "            - sy.Matrix([[sy.diff(L, x[0,0])], [sy.diff(L, x[1,0])], [sy.diff(L, x[2,0])]])\n",
    "        grad_psi_1 = sy.Matrix([[sy.diff(psi_1, x[0,0]), sy.diff(psi_1, x[1,0]), sy.diff(psi_1, x[2,0])]]).T\n",
    "    pi = -M * grad_psi_1\n",
    "    \n",
    "    xi_s.append(xi)\n",
    "    grad_psi_1_s.append(grad_psi_1)\n",
    "    pi_s.append(pi)\n",
    "\n",
    "\n",
    "\n",
    "\n",
    "with open(\"fabric_goal_attractor.py\", \"w\") as f:\n",
    "    for i in range(3):\n",
    "        f.write(\"import numpy as np\\nfrom numba import njit\\n@njit(cache=True)\\ndef xi_{0}(x, x_dot, m_u, m_l, alpha_m, k, alpha_psi):\\n    return \".format(i+1))\n",
    "        f.write(NumPyPrinter().doprint(xi_s[i]))\n",
    "        f.write(\"\\n@njit(cache=True)\\ndef grad_psi_1_{0}(x, x_dot, m_u, m_l, alpha_m, k, alpha_psi):\\n    return \".format(i+1))\n",
    "        f.write(NumPyPrinter().doprint(grad_psi_1_s[i]))\n",
    "        f.write(\"\\n@njit(cache=True)\\ndef pi_{0}(x, x_dot, m_u, m_l, alpha_m, k, alpha_psi):\\n    return \".format(i+1))\n",
    "        f.write(NumPyPrinter().doprint(pi_s[i]))\n",
    "        f.write(\"\\n@njit(cache=True)\\ndef M_{0}(x, x_dot, m_u, m_l, alpha_m, k, alpha_psi):\\n    return \".format(i+1))\n",
    "        f.write(NumPyPrinter().doprint(M_s[i]))\n"
   ]
  },
  {
   "cell_type": "code",
   "execution_count": null,
   "metadata": {},
   "outputs": [],
   "source": [
    "# 移動空間制限\n",
    "a, wu, wl, sigma, r = sy.symbols('a, wu, wl, sigma, r')\n",
    "x, x_dot = sy.symbols('x, x_dot')"
   ]
  }
 ],
 "metadata": {
  "kernelspec": {
   "display_name": "py10",
   "language": "python",
   "name": "python3"
  },
  "language_info": {
   "codemirror_mode": {
    "name": "ipython",
    "version": 3
   },
   "file_extension": ".py",
   "mimetype": "text/x-python",
   "name": "python",
   "nbconvert_exporter": "python",
   "pygments_lexer": "ipython3",
   "version": "3.10.8"
  },
  "orig_nbformat": 4,
  "vscode": {
   "interpreter": {
    "hash": "874f112d5cd2f37427a47785893364089388359d34c9e648f15286039867cd34"
   }
  }
 },
 "nbformat": 4,
 "nbformat_minor": 2
}
