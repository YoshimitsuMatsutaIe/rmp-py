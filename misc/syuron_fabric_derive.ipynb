{
 "cells": [
  {
   "cell_type": "code",
   "execution_count": 2,
   "metadata": {},
   "outputs": [],
   "source": [
    "import sympy as sy\n",
    "from sympy import sqrt, ln, exp\n",
    "\n",
    "def norm(x):\n",
    "    dim = x.shape[0]\n",
    "    z = 0\n",
    "    for i in range(dim):\n",
    "        z += x[i,0]**2\n",
    "    return sy.sqrt(z)\n",
    "\n",
    "def s(v):\n",
    "    if v > 0:\n",
    "        return 0\n",
    "    else:\n",
    "        return 1"
   ]
  },
  {
   "cell_type": "code",
   "execution_count": 11,
   "metadata": {},
   "outputs": [
    {
     "ename": "TypeError",
     "evalue": "cannot determine truth value of Relational",
     "output_type": "error",
     "traceback": [
      "\u001b[0;31m---------------------------------------------------------------------------\u001b[0m",
      "\u001b[0;31mTypeError\u001b[0m                                 Traceback (most recent call last)",
      "Cell \u001b[0;32mIn[11], line 9\u001b[0m\n\u001b[1;32m      5\u001b[0m a, a_p \u001b[39m=\u001b[39m sy\u001b[39m.\u001b[39msymbols(\u001b[39m'\u001b[39m\u001b[39ma, a_p\u001b[39m\u001b[39m'\u001b[39m)\n\u001b[1;32m      7\u001b[0m Le \u001b[39m=\u001b[39m \u001b[39m1\u001b[39m\u001b[39m/\u001b[39m\u001b[39m2\u001b[39m \u001b[39m*\u001b[39m x_dot\u001b[39m*\u001b[39m\u001b[39m*\u001b[39m\u001b[39m2\u001b[39m \u001b[39m*\u001b[39ma \u001b[39m*\u001b[39m exp(\u001b[39m-\u001b[39ma\u001b[39m*\u001b[39mx)\n\u001b[0;32m----> 9\u001b[0m m \u001b[39m=\u001b[39m sy\u001b[39m.\u001b[39mdiff(Le, x_dot, \u001b[39m2\u001b[39m) \u001b[39m*\u001b[39m s(x_dot)\n",
      "Cell \u001b[0;32mIn[2], line 12\u001b[0m, in \u001b[0;36ms\u001b[0;34m(v)\u001b[0m\n\u001b[1;32m     11\u001b[0m \u001b[39mdef\u001b[39;00m \u001b[39ms\u001b[39m(v):\n\u001b[0;32m---> 12\u001b[0m     \u001b[39mif\u001b[39;00m v \u001b[39m>\u001b[39m \u001b[39m0\u001b[39m:\n\u001b[1;32m     13\u001b[0m         \u001b[39mreturn\u001b[39;00m \u001b[39m0\u001b[39m\n\u001b[1;32m     14\u001b[0m     \u001b[39melse\u001b[39;00m:\n",
      "File \u001b[0;32m~/anaconda3/envs/py10/lib/python3.10/site-packages/sympy/core/relational.py:511\u001b[0m, in \u001b[0;36mRelational.__bool__\u001b[0;34m(self)\u001b[0m\n\u001b[1;32m    510\u001b[0m \u001b[39mdef\u001b[39;00m \u001b[39m__bool__\u001b[39m(\u001b[39mself\u001b[39m):\n\u001b[0;32m--> 511\u001b[0m     \u001b[39mraise\u001b[39;00m \u001b[39mTypeError\u001b[39;00m(\u001b[39m\"\u001b[39m\u001b[39mcannot determine truth value of Relational\u001b[39m\u001b[39m\"\u001b[39m)\n",
      "\u001b[0;31mTypeError\u001b[0m: cannot determine truth value of Relational"
     ]
    }
   ],
   "source": [
    "# 障害物回避\n",
    "\n",
    "x = sy.Symbol(\"x\")\n",
    "x_dot = sy.Symbol('x_dot')\n",
    "a, a_p = sy.symbols('a, a_p')\n",
    "\n",
    "Le = 1/2 * x_dot**2 *a * exp(-a*x)\n",
    "\n",
    "m = sy.diff(Le, x_dot, 2)"
   ]
  }
 ],
 "metadata": {
  "kernelspec": {
   "display_name": "py10",
   "language": "python",
   "name": "python3"
  },
  "language_info": {
   "codemirror_mode": {
    "name": "ipython",
    "version": 3
   },
   "file_extension": ".py",
   "mimetype": "text/x-python",
   "name": "python",
   "nbconvert_exporter": "python",
   "pygments_lexer": "ipython3",
   "version": "3.10.8"
  },
  "orig_nbformat": 4,
  "vscode": {
   "interpreter": {
    "hash": "874f112d5cd2f37427a47785893364089388359d34c9e648f15286039867cd34"
   }
  }
 },
 "nbformat": 4,
 "nbformat_minor": 2
}
