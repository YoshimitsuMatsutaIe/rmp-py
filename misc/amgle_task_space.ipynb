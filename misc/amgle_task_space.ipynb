{
 "cells": [
  {
   "cell_type": "code",
   "execution_count": 15,
   "metadata": {},
   "outputs": [
    {
     "data": {
      "text/latex": [
       "$\\displaystyle \\frac{4 q_{0, 0} - 2 s_{0, 0} - 2 t_{0, 0}}{2 \\sqrt{\\left(- q_{0, 0} + s_{0, 0}\\right)^{2} + \\left(- q_{1, 0} + s_{1, 0}\\right)^{2}} \\sqrt{\\left(- q_{0, 0} + t_{0, 0}\\right)^{2} + \\left(- q_{1, 0} + t_{1, 0}\\right)^{2}}} + \\frac{\\left(- q_{0, 0} + t_{0, 0}\\right) \\left(\\left(- q_{0, 0} + s_{0, 0}\\right)^{2} + \\left(- q_{0, 0} + t_{0, 0}\\right)^{2} + \\left(- q_{1, 0} + s_{1, 0}\\right)^{2} + \\left(- q_{1, 0} + t_{1, 0}\\right)^{2} - \\left(s_{0, 0} - t_{0, 0}\\right)^{2} - \\left(s_{1, 0} - t_{1, 0}\\right)^{2}\\right)}{2 \\sqrt{\\left(- q_{0, 0} + s_{0, 0}\\right)^{2} + \\left(- q_{1, 0} + s_{1, 0}\\right)^{2}} \\left(\\left(- q_{0, 0} + t_{0, 0}\\right)^{2} + \\left(- q_{1, 0} + t_{1, 0}\\right)^{2}\\right)^{\\frac{3}{2}}} + \\frac{\\left(- q_{0, 0} + s_{0, 0}\\right) \\left(\\left(- q_{0, 0} + s_{0, 0}\\right)^{2} + \\left(- q_{0, 0} + t_{0, 0}\\right)^{2} + \\left(- q_{1, 0} + s_{1, 0}\\right)^{2} + \\left(- q_{1, 0} + t_{1, 0}\\right)^{2} - \\left(s_{0, 0} - t_{0, 0}\\right)^{2} - \\left(s_{1, 0} - t_{1, 0}\\right)^{2}\\right)}{2 \\left(\\left(- q_{0, 0} + s_{0, 0}\\right)^{2} + \\left(- q_{1, 0} + s_{1, 0}\\right)^{2}\\right)^{\\frac{3}{2}} \\sqrt{\\left(- q_{0, 0} + t_{0, 0}\\right)^{2} + \\left(- q_{1, 0} + t_{1, 0}\\right)^{2}}}$"
      ],
      "text/plain": [
       "(4*q[0, 0] - 2*s[0, 0] - 2*t[0, 0])/(2*sqrt((-q[0, 0] + s[0, 0])**2 + (-q[1, 0] + s[1, 0])**2)*sqrt((-q[0, 0] + t[0, 0])**2 + (-q[1, 0] + t[1, 0])**2)) + (-q[0, 0] + t[0, 0])*((-q[0, 0] + s[0, 0])**2 + (-q[0, 0] + t[0, 0])**2 + (-q[1, 0] + s[1, 0])**2 + (-q[1, 0] + t[1, 0])**2 - (s[0, 0] - t[0, 0])**2 - (s[1, 0] - t[1, 0])**2)/(2*sqrt((-q[0, 0] + s[0, 0])**2 + (-q[1, 0] + s[1, 0])**2)*((-q[0, 0] + t[0, 0])**2 + (-q[1, 0] + t[1, 0])**2)**(3/2)) + (-q[0, 0] + s[0, 0])*((-q[0, 0] + s[0, 0])**2 + (-q[0, 0] + t[0, 0])**2 + (-q[1, 0] + s[1, 0])**2 + (-q[1, 0] + t[1, 0])**2 - (s[0, 0] - t[0, 0])**2 - (s[1, 0] - t[1, 0])**2)/(2*((-q[0, 0] + s[0, 0])**2 + (-q[1, 0] + s[1, 0])**2)**(3/2)*sqrt((-q[0, 0] + t[0, 0])**2 + (-q[1, 0] + t[1, 0])**2))"
      ]
     },
     "execution_count": 15,
     "metadata": {},
     "output_type": "execute_result"
    }
   ],
   "source": [
    "import sympy as sy\n",
    "\n",
    "\n",
    "def norm(x):\n",
    "    dim = x.shape[0]\n",
    "    z = 0\n",
    "    for i in range(dim):\n",
    "        z += x[i,0]**2\n",
    "    return sy.sqrt(z)\n",
    "\n",
    "q = sy.MatrixSymbol('q', 2, 1)\n",
    "s = sy.MatrixSymbol('s', 2, 1)\n",
    "t = sy.MatrixSymbol('t', 2, 1)\n",
    "\n",
    "a = norm(s - q)\n",
    "b = norm(t - q)\n",
    "c = norm(s - t)\n",
    "x = (a**2 + b**2 - c**2) / (2*a*b)\n",
    "J = sy.Matrix([[sy.diff(x, q[0,0]), sy.diff(x, q[1,0])]])\n",
    "J[0,0]"
   ]
  },
  {
   "cell_type": "code",
   "execution_count": null,
   "metadata": {},
   "outputs": [],
   "source": []
  }
 ],
 "metadata": {
  "kernelspec": {
   "display_name": "py10",
   "language": "python",
   "name": "python3"
  },
  "language_info": {
   "codemirror_mode": {
    "name": "ipython",
    "version": 3
   },
   "file_extension": ".py",
   "mimetype": "text/x-python",
   "name": "python",
   "nbconvert_exporter": "python",
   "pygments_lexer": "ipython3",
   "version": "3.10.8"
  },
  "orig_nbformat": 4,
  "vscode": {
   "interpreter": {
    "hash": "874f112d5cd2f37427a47785893364089388359d34c9e648f15286039867cd34"
   }
  }
 },
 "nbformat": 4,
 "nbformat_minor": 2
}
