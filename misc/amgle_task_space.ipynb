{
 "cells": [
  {
   "cell_type": "code",
   "execution_count": 32,
   "metadata": {},
   "outputs": [
    {
     "name": "stdout",
     "output_type": "stream",
     "text": [
      "x =  g - ((-q_x + s_x)**2 + (-q_x + t_x)**2 + (-q_y + s_y)**2 + (-q_y + t_y)**2 - (s_x - t_x)**2 - (s_y - t_y)**2)/(2*sqrt((-q_x + s_x)**2 + (-q_y + s_y)**2)*sqrt((-q_x + t_x)**2 + (-q_y + t_y)**2))\n",
      "J =  Matrix([[-(-q_x + s_x)*((-q_x + s_x)**2 + (-q_x + t_x)**2 + (-q_y + s_y)**2 + (-q_y + t_y)**2 - (s_x - t_x)**2 - (s_y - t_y)**2)/(2*((-q_x + s_x)**2 + (-q_y + s_y)**2)**(3/2)*sqrt((-q_x + t_x)**2 + (-q_y + t_y)**2)) - (-q_x + t_x)*((-q_x + s_x)**2 + (-q_x + t_x)**2 + (-q_y + s_y)**2 + (-q_y + t_y)**2 - (s_x - t_x)**2 - (s_y - t_y)**2)/(2*sqrt((-q_x + s_x)**2 + (-q_y + s_y)**2)*((-q_x + t_x)**2 + (-q_y + t_y)**2)**(3/2)) - (4*q_x - 2*s_x - 2*t_x)/(2*sqrt((-q_x + s_x)**2 + (-q_y + s_y)**2)*sqrt((-q_x + t_x)**2 + (-q_y + t_y)**2)), -(-q_y + s_y)*((-q_x + s_x)**2 + (-q_x + t_x)**2 + (-q_y + s_y)**2 + (-q_y + t_y)**2 - (s_x - t_x)**2 - (s_y - t_y)**2)/(2*((-q_x + s_x)**2 + (-q_y + s_y)**2)**(3/2)*sqrt((-q_x + t_x)**2 + (-q_y + t_y)**2)) - (-q_y + t_y)*((-q_x + s_x)**2 + (-q_x + t_x)**2 + (-q_y + s_y)**2 + (-q_y + t_y)**2 - (s_x - t_x)**2 - (s_y - t_y)**2)/(2*sqrt((-q_x + s_x)**2 + (-q_y + s_y)**2)*((-q_x + t_x)**2 + (-q_y + t_y)**2)**(3/2)) - (4*q_y - 2*s_y - 2*t_y)/(2*sqrt((-q_x + s_x)**2 + (-q_y + s_y)**2)*sqrt((-q_x + t_x)**2 + (-q_y + t_y)**2))]])\n"
     ]
    }
   ],
   "source": [
    "import sympy as sy\n",
    "\n",
    "\n",
    "def norm(x):\n",
    "    dim = x.shape[0]\n",
    "    z = 0\n",
    "    for i in range(dim):\n",
    "        z += x[i,0]**2\n",
    "    return sy.sqrt(z)\n",
    "\n",
    "# q = sy.MatrixSymbol('q', 2, 1)\n",
    "# s = sy.MatrixSymbol('s', 2, 1)\n",
    "# t = sy.MatrixSymbol('t', 2, 1)\n",
    "\n",
    "q_x, q_y, s_x, s_y, t_x, t_y = sy.symbols('q_x, q_y, s_x, s_y, t_x, t_y')\n",
    "\n",
    "g = sy.Symbol('g')\n",
    "\n",
    "q = sy.Matrix([[q_x, q_y]]).T\n",
    "s = sy.Matrix([[s_x, s_y]]).T\n",
    "t = sy.Matrix([[t_x, t_y]]).T\n",
    "\n",
    "a = norm(s - q)\n",
    "b = norm(t - q)\n",
    "c = norm(s - t)\n",
    "x = g - (a**2 + b**2 - c**2) / (2*a*b)\n",
    "J = sy.Matrix([[sy.diff(x, q[0,0]), sy.diff(x, q[1,0])]])\n",
    "print(\"x = \", x)\n",
    "print(\"J = \", J)"
   ]
  },
  {
   "cell_type": "code",
   "execution_count": 33,
   "metadata": {},
   "outputs": [
    {
     "name": "stdout",
     "output_type": "stream",
     "text": [
      "x_dot =  -(-(-q_x + s_x)*(-2*q_x_dot + 2*s_x_dot)/2 - (-q_y + s_y)*(-2*q_y_dot + 2*s_y_dot)/2)*((-q_x + s_x)**2 + (-q_x + t_x)**2 + (-q_y + s_y)**2 + (-q_y + t_y)**2 - (s_x - t_x)**2 - (s_y - t_y)**2)/(2*((-q_x + s_x)**2 + (-q_y + s_y)**2)**(3/2)*sqrt((-q_x + t_x)**2 + (-q_y + t_y)**2)) - (-(-q_x + t_x)*(-2*q_x_dot + 2*t_x_dot)/2 - (-q_y + t_y)*(-2*q_y_dot + 2*t_y_dot)/2)*((-q_x + s_x)**2 + (-q_x + t_x)**2 + (-q_y + s_y)**2 + (-q_y + t_y)**2 - (s_x - t_x)**2 - (s_y - t_y)**2)/(2*sqrt((-q_x + s_x)**2 + (-q_y + s_y)**2)*((-q_x + t_x)**2 + (-q_y + t_y)**2)**(3/2)) - ((-q_x + s_x)*(-2*q_x_dot + 2*s_x_dot) + (-q_x + t_x)*(-2*q_x_dot + 2*t_x_dot) + (-q_y + s_y)*(-2*q_y_dot + 2*s_y_dot) + (-q_y + t_y)*(-2*q_y_dot + 2*t_y_dot) - (s_x - t_x)*(2*s_x_dot - 2*t_x_dot) - (s_y - t_y)*(2*s_y_dot - 2*t_y_dot))/(2*sqrt((-q_x + s_x)**2 + (-q_y + s_y)**2)*sqrt((-q_x + t_x)**2 + (-q_y + t_y)**2))\n",
      "J_dot =  Matrix([[-(-q_x + s_x)*(-3*(-q_x + s_x)*(-2*q_x_dot + 2*s_x_dot)/2 - 3*(-q_y + s_y)*(-2*q_y_dot + 2*s_y_dot)/2)*((-q_x + s_x)**2 + (-q_x + t_x)**2 + (-q_y + s_y)**2 + (-q_y + t_y)**2 - (s_x - t_x)**2 - (s_y - t_y)**2)/(2*((-q_x + s_x)**2 + (-q_y + s_y)**2)**(5/2)*sqrt((-q_x + t_x)**2 + (-q_y + t_y)**2)) - (-q_x + s_x)*(-(-q_x + t_x)*(-2*q_x_dot + 2*t_x_dot)/2 - (-q_y + t_y)*(-2*q_y_dot + 2*t_y_dot)/2)*((-q_x + s_x)**2 + (-q_x + t_x)**2 + (-q_y + s_y)**2 + (-q_y + t_y)**2 - (s_x - t_x)**2 - (s_y - t_y)**2)/(2*((-q_x + s_x)**2 + (-q_y + s_y)**2)**(3/2)*((-q_x + t_x)**2 + (-q_y + t_y)**2)**(3/2)) - (-q_x + s_x)*((-q_x + s_x)*(-2*q_x_dot + 2*s_x_dot) + (-q_x + t_x)*(-2*q_x_dot + 2*t_x_dot) + (-q_y + s_y)*(-2*q_y_dot + 2*s_y_dot) + (-q_y + t_y)*(-2*q_y_dot + 2*t_y_dot) - (s_x - t_x)*(2*s_x_dot - 2*t_x_dot) - (s_y - t_y)*(2*s_y_dot - 2*t_y_dot))/(2*((-q_x + s_x)**2 + (-q_y + s_y)**2)**(3/2)*sqrt((-q_x + t_x)**2 + (-q_y + t_y)**2)) - (-q_x + t_x)*(-(-q_x + s_x)*(-2*q_x_dot + 2*s_x_dot)/2 - (-q_y + s_y)*(-2*q_y_dot + 2*s_y_dot)/2)*((-q_x + s_x)**2 + (-q_x + t_x)**2 + (-q_y + s_y)**2 + (-q_y + t_y)**2 - (s_x - t_x)**2 - (s_y - t_y)**2)/(2*((-q_x + s_x)**2 + (-q_y + s_y)**2)**(3/2)*((-q_x + t_x)**2 + (-q_y + t_y)**2)**(3/2)) - (-q_x + t_x)*(-3*(-q_x + t_x)*(-2*q_x_dot + 2*t_x_dot)/2 - 3*(-q_y + t_y)*(-2*q_y_dot + 2*t_y_dot)/2)*((-q_x + s_x)**2 + (-q_x + t_x)**2 + (-q_y + s_y)**2 + (-q_y + t_y)**2 - (s_x - t_x)**2 - (s_y - t_y)**2)/(2*sqrt((-q_x + s_x)**2 + (-q_y + s_y)**2)*((-q_x + t_x)**2 + (-q_y + t_y)**2)**(5/2)) - (-q_x + t_x)*((-q_x + s_x)*(-2*q_x_dot + 2*s_x_dot) + (-q_x + t_x)*(-2*q_x_dot + 2*t_x_dot) + (-q_y + s_y)*(-2*q_y_dot + 2*s_y_dot) + (-q_y + t_y)*(-2*q_y_dot + 2*t_y_dot) - (s_x - t_x)*(2*s_x_dot - 2*t_x_dot) - (s_y - t_y)*(2*s_y_dot - 2*t_y_dot))/(2*sqrt((-q_x + s_x)**2 + (-q_y + s_y)**2)*((-q_x + t_x)**2 + (-q_y + t_y)**2)**(3/2)) - (-q_x_dot + s_x_dot)*((-q_x + s_x)**2 + (-q_x + t_x)**2 + (-q_y + s_y)**2 + (-q_y + t_y)**2 - (s_x - t_x)**2 - (s_y - t_y)**2)/(2*((-q_x + s_x)**2 + (-q_y + s_y)**2)**(3/2)*sqrt((-q_x + t_x)**2 + (-q_y + t_y)**2)) - (-q_x_dot + t_x_dot)*((-q_x + s_x)**2 + (-q_x + t_x)**2 + (-q_y + s_y)**2 + (-q_y + t_y)**2 - (s_x - t_x)**2 - (s_y - t_y)**2)/(2*sqrt((-q_x + s_x)**2 + (-q_y + s_y)**2)*((-q_x + t_x)**2 + (-q_y + t_y)**2)**(3/2)) - (-(-q_x + s_x)*(-2*q_x_dot + 2*s_x_dot)/2 - (-q_y + s_y)*(-2*q_y_dot + 2*s_y_dot)/2)*(4*q_x - 2*s_x - 2*t_x)/(2*((-q_x + s_x)**2 + (-q_y + s_y)**2)**(3/2)*sqrt((-q_x + t_x)**2 + (-q_y + t_y)**2)) - (-(-q_x + t_x)*(-2*q_x_dot + 2*t_x_dot)/2 - (-q_y + t_y)*(-2*q_y_dot + 2*t_y_dot)/2)*(4*q_x - 2*s_x - 2*t_x)/(2*sqrt((-q_x + s_x)**2 + (-q_y + s_y)**2)*((-q_x + t_x)**2 + (-q_y + t_y)**2)**(3/2)) - (4*q_x_dot - 2*s_x_dot - 2*t_x_dot)/(2*sqrt((-q_x + s_x)**2 + (-q_y + s_y)**2)*sqrt((-q_x + t_x)**2 + (-q_y + t_y)**2)), -(-q_y + s_y)*(-3*(-q_x + s_x)*(-2*q_x_dot + 2*s_x_dot)/2 - 3*(-q_y + s_y)*(-2*q_y_dot + 2*s_y_dot)/2)*((-q_x + s_x)**2 + (-q_x + t_x)**2 + (-q_y + s_y)**2 + (-q_y + t_y)**2 - (s_x - t_x)**2 - (s_y - t_y)**2)/(2*((-q_x + s_x)**2 + (-q_y + s_y)**2)**(5/2)*sqrt((-q_x + t_x)**2 + (-q_y + t_y)**2)) - (-q_y + s_y)*(-(-q_x + t_x)*(-2*q_x_dot + 2*t_x_dot)/2 - (-q_y + t_y)*(-2*q_y_dot + 2*t_y_dot)/2)*((-q_x + s_x)**2 + (-q_x + t_x)**2 + (-q_y + s_y)**2 + (-q_y + t_y)**2 - (s_x - t_x)**2 - (s_y - t_y)**2)/(2*((-q_x + s_x)**2 + (-q_y + s_y)**2)**(3/2)*((-q_x + t_x)**2 + (-q_y + t_y)**2)**(3/2)) - (-q_y + s_y)*((-q_x + s_x)*(-2*q_x_dot + 2*s_x_dot) + (-q_x + t_x)*(-2*q_x_dot + 2*t_x_dot) + (-q_y + s_y)*(-2*q_y_dot + 2*s_y_dot) + (-q_y + t_y)*(-2*q_y_dot + 2*t_y_dot) - (s_x - t_x)*(2*s_x_dot - 2*t_x_dot) - (s_y - t_y)*(2*s_y_dot - 2*t_y_dot))/(2*((-q_x + s_x)**2 + (-q_y + s_y)**2)**(3/2)*sqrt((-q_x + t_x)**2 + (-q_y + t_y)**2)) - (-q_y + t_y)*(-(-q_x + s_x)*(-2*q_x_dot + 2*s_x_dot)/2 - (-q_y + s_y)*(-2*q_y_dot + 2*s_y_dot)/2)*((-q_x + s_x)**2 + (-q_x + t_x)**2 + (-q_y + s_y)**2 + (-q_y + t_y)**2 - (s_x - t_x)**2 - (s_y - t_y)**2)/(2*((-q_x + s_x)**2 + (-q_y + s_y)**2)**(3/2)*((-q_x + t_x)**2 + (-q_y + t_y)**2)**(3/2)) - (-q_y + t_y)*(-3*(-q_x + t_x)*(-2*q_x_dot + 2*t_x_dot)/2 - 3*(-q_y + t_y)*(-2*q_y_dot + 2*t_y_dot)/2)*((-q_x + s_x)**2 + (-q_x + t_x)**2 + (-q_y + s_y)**2 + (-q_y + t_y)**2 - (s_x - t_x)**2 - (s_y - t_y)**2)/(2*sqrt((-q_x + s_x)**2 + (-q_y + s_y)**2)*((-q_x + t_x)**2 + (-q_y + t_y)**2)**(5/2)) - (-q_y + t_y)*((-q_x + s_x)*(-2*q_x_dot + 2*s_x_dot) + (-q_x + t_x)*(-2*q_x_dot + 2*t_x_dot) + (-q_y + s_y)*(-2*q_y_dot + 2*s_y_dot) + (-q_y + t_y)*(-2*q_y_dot + 2*t_y_dot) - (s_x - t_x)*(2*s_x_dot - 2*t_x_dot) - (s_y - t_y)*(2*s_y_dot - 2*t_y_dot))/(2*sqrt((-q_x + s_x)**2 + (-q_y + s_y)**2)*((-q_x + t_x)**2 + (-q_y + t_y)**2)**(3/2)) - (-q_y_dot + s_y_dot)*((-q_x + s_x)**2 + (-q_x + t_x)**2 + (-q_y + s_y)**2 + (-q_y + t_y)**2 - (s_x - t_x)**2 - (s_y - t_y)**2)/(2*((-q_x + s_x)**2 + (-q_y + s_y)**2)**(3/2)*sqrt((-q_x + t_x)**2 + (-q_y + t_y)**2)) - (-q_y_dot + t_y_dot)*((-q_x + s_x)**2 + (-q_x + t_x)**2 + (-q_y + s_y)**2 + (-q_y + t_y)**2 - (s_x - t_x)**2 - (s_y - t_y)**2)/(2*sqrt((-q_x + s_x)**2 + (-q_y + s_y)**2)*((-q_x + t_x)**2 + (-q_y + t_y)**2)**(3/2)) - (-(-q_x + s_x)*(-2*q_x_dot + 2*s_x_dot)/2 - (-q_y + s_y)*(-2*q_y_dot + 2*s_y_dot)/2)*(4*q_y - 2*s_y - 2*t_y)/(2*((-q_x + s_x)**2 + (-q_y + s_y)**2)**(3/2)*sqrt((-q_x + t_x)**2 + (-q_y + t_y)**2)) - (-(-q_x + t_x)*(-2*q_x_dot + 2*t_x_dot)/2 - (-q_y + t_y)*(-2*q_y_dot + 2*t_y_dot)/2)*(4*q_y - 2*s_y - 2*t_y)/(2*sqrt((-q_x + s_x)**2 + (-q_y + s_y)**2)*((-q_x + t_x)**2 + (-q_y + t_y)**2)**(3/2)) - (4*q_y_dot - 2*s_y_dot - 2*t_y_dot)/(2*sqrt((-q_x + s_x)**2 + (-q_y + s_y)**2)*sqrt((-q_x + t_x)**2 + (-q_y + t_y)**2))]])\n"
     ]
    }
   ],
   "source": [
    "T = sy.Symbol('T')\n",
    "q_x_ = sy.Function(\"q_x_\"); q_y_ = sy.Function(\"q_y_\")\n",
    "s_x_ = sy.Function(\"s_x_\"); s_y_ = sy.Function(\"s_y_\")\n",
    "t_x_ = sy.Function(\"t_x_\"); t_y_ = sy.Function(\"t_y_\")\n",
    "\n",
    "q_x_dot, q_y_dot, s_x_dot, s_y_dot, t_x_dot, t_y_dot = sy.symbols('q_x_dot, q_y_dot, s_x_dot, s_y_dot, t_x_dot, t_y_dot')\n",
    "\n",
    "x_ = x.subs([\n",
    "    (q_x, q_x_(T)), (q_y, q_y_(T)),\n",
    "    (s_x, s_x_(T)), (s_y, s_y_(T)),\n",
    "    (t_x, t_x_(T)), (t_y, t_y_(T)),\n",
    "])\n",
    "J_ = J.subs([\n",
    "    (q_x, q_x_(T)), (q_y, q_y_(T)),\n",
    "    (s_x, s_x_(T)), (s_y, s_y_(T)),\n",
    "    (t_x, t_x_(T)), (t_y, t_y_(T)),\n",
    "])\n",
    "\n",
    "x_dot = sy.diff(x_, T)\n",
    "x_dot = x_dot.subs([\n",
    "    (sy.Derivative(q_x_(T), T), q_x_dot),\n",
    "    (sy.Derivative(q_y_(T), T), q_y_dot),\n",
    "    (sy.Derivative(s_x_(T), T), s_x_dot),\n",
    "    (sy.Derivative(s_y_(T), T), s_y_dot),\n",
    "    (sy.Derivative(t_x_(T), T), t_x_dot),\n",
    "    (sy.Derivative(t_y_(T), T), t_y_dot),\n",
    "    (q_x_(T), q_x),\n",
    "    (q_y_(T), q_y),\n",
    "    (s_x_(T), s_x),\n",
    "    (s_y_(T), s_y),\n",
    "    (t_x_(T), t_x),\n",
    "    (t_y_(T), t_y),\n",
    "])\n",
    "\n",
    "J_dot = sy.diff(J_, T)\n",
    "J_dot = J_dot.subs([\n",
    "    (sy.Derivative(q_x_(T), T), q_x_dot),\n",
    "    (sy.Derivative(q_y_(T), T), q_y_dot),\n",
    "    (sy.Derivative(s_x_(T), T), s_x_dot),\n",
    "    (sy.Derivative(s_y_(T), T), s_y_dot),\n",
    "    (sy.Derivative(t_x_(T), T), t_x_dot),\n",
    "    (sy.Derivative(t_y_(T), T), t_y_dot),\n",
    "    (q_x_(T), q_x),\n",
    "    (q_y_(T), q_y),\n",
    "    (s_x_(T), s_x),\n",
    "    (s_y_(T), s_y),\n",
    "    (t_x_(T), t_x),\n",
    "    (t_y_(T), t_y),\n",
    "])\n",
    "\n",
    "print(\"x_dot = \", x_dot)\n",
    "print(\"J_dot = \", J_dot)"
   ]
  },
  {
   "cell_type": "markdown",
   "metadata": {},
   "source": []
  }
 ],
 "metadata": {
  "kernelspec": {
   "display_name": "py10",
   "language": "python",
   "name": "python3"
  },
  "language_info": {
   "codemirror_mode": {
    "name": "ipython",
    "version": 3
   },
   "file_extension": ".py",
   "mimetype": "text/x-python",
   "name": "python",
   "nbconvert_exporter": "python",
   "pygments_lexer": "ipython3",
   "version": "3.10.8"
  },
  "orig_nbformat": 4,
  "vscode": {
   "interpreter": {
    "hash": "874f112d5cd2f37427a47785893364089388359d34c9e648f15286039867cd34"
   }
  }
 },
 "nbformat": 4,
 "nbformat_minor": 2
}
