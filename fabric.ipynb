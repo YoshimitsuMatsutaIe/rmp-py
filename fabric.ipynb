{
 "cells": [
  {
   "cell_type": "code",
   "execution_count": 2,
   "metadata": {},
   "outputs": [],
   "source": [
    "\"\"\"ファブリック\n",
    "\n",
    "点\n",
    "\"\"\"\n",
    "\n",
    "import numpy as np\n",
    "from scipy import integrate\n",
    "import sympy as sy\n",
    "import matplotlib.pyplot as plt\n",
    "\n",
    "#import robot_sice_ex.sice_ex as sice_ex\n",
    "\n",
    "def s(x_dot):\n",
    "    if x_dot < 0:\n",
    "        return 1\n",
    "    else:\n",
    "        return 0\n",
    "\n",
    "def sigmoid(x, alpha):\n",
    "    return 1 / (1 + sy.exp(-alpha * x))\n",
    "\n",
    "q = sy.MatrixSymbol('q', 2, 1)\n",
    "q_d = sy.MatrixSymbol('q_d', 2, 1)\n",
    "q_o = sy.MatrixSymbol('q_o', 2, 1)"
   ]
  },
  {
   "cell_type": "code",
   "execution_count": 3,
   "metadata": {},
   "outputs": [],
   "source": [
    "# ee attractor\n",
    "# q = sy.MatrixSymbol('q', 2, 1)\n",
    "# q_d = sy.MatrixSymbol('q_d', 2, 1)\n",
    "# phi = q - q_d\n",
    "# x = phi\n",
    "# x_norm = sy.sqrt(x[0,0]**2 + x[1,0]**2)\n",
    "\n",
    "x = sy.MatrixSymbol('x', 2, 1)\n",
    "x_norm = sy.sqrt(x[0,0]**2 + x[1,0]**2)\n",
    "m_u, m_l, alpha_m, k, alpha_psi = sy.symbols('m_U, m_l, alpha_m, k, alpha_psi')\n",
    "\n",
    "G = (m_u - m_l) * sy.exp(-(alpha_m * x_norm)**2) * sy.eye(2) + m_u * sy.eye(2)\n",
    "psi_1 = k * (x_norm + 1/alpha_psi * sy.ln(1 + sy.exp(-2 * alpha_psi * x_norm)))\n",
    "\n",
    "M_ee = G\n",
    "pi_ee = -sy.Matrix([[psi_1]]).jacobian(q)\n",
    "\n",
    "func_M_ee = sy.lambdify((x, m_u, m_l, alpha_m, k, alpha_psi), M_ee, \"numpy\")\n",
    "func_pi_ee = sy.lambdify((x, m_u, m_l, alpha_m, k, alpha_psi), pi_ee, \"numpy\")\n"
   ]
  },
  {
   "cell_type": "code",
   "execution_count": null,
   "metadata": {},
   "outputs": [
    {
     "ename": "",
     "evalue": "",
     "output_type": "error",
     "traceback": [
      "\u001b[1;31m'py10' を使用した実行中のセルには ipykernel パッケージが必要です。\n",
      "\u001b[1;31m次のコマンドを実行して、'ipykernel' を Python 環境にインストールします。\n",
      "\u001b[1;31mコマンド: 'conda install -n py10 ipykernel --update-deps --force-reinstall'"
     ]
    }
   ],
   "source": [
    "# obs avoidance\n",
    "\n",
    "\n",
    "r, k_b, alpha_b, alpha_sig = sy.symbols('r, k_b, alpha_b, alpha_sig')\n",
    "x = sy.Symbol('x')\n",
    "x_dot = sy.Symbol('x_dot')\n",
    "\n",
    "G = sigmoid(x_dot, alpha_sig) * k_b / x\n",
    "L = 1/2 * x_dot * G * x_dot\n",
    "\n",
    "M = sy.diff(L, (x_dot, 2))\n",
    "psi_1b = alpha_b / (2 * x**8)\n",
    "\n",
    "\n",
    "q = sy.MatrixSymbol('q', 2, 1)\n",
    "q_o = sy.MatrixSymbol('q_o', 2, 1)\n",
    "q_dot = sy.MatrixSymbol('q_dot', 2, 1)\n",
    "q_ = q - q_o\n",
    "phi = sy.sqrt(q_[0,0]**2 + q_[1,0]**2) / r - 1\n",
    "x_ = phi\n",
    "x_dot_ = 1/r * 1/sy.sqrt(q_[0,0]**2 + q_[1,0]**2) * (q - q_o).T * q_dot\n",
    "psi_1b_ = psi_1b.subs([(x, x_)])\n",
    "f = M.subs([(x, x_), (x_dot, x_dot_)]) * sy.Matrix([[psi_1b_]]).jacobian(q)\n",
    "\n",
    "f"
   ]
  },
  {
   "cell_type": "code",
   "execution_count": null,
   "metadata": {},
   "outputs": [
    {
     "ename": "",
     "evalue": "",
     "output_type": "error",
     "traceback": [
      "\u001b[1;31m'py10' を使用した実行中のセルには ipykernel パッケージが必要です。\n",
      "\u001b[1;31m次のコマンドを実行して、'ipykernel' を Python 環境にインストールします。\n",
      "\u001b[1;31mコマンド: 'conda install -n py10 ipykernel --update-deps --force-reinstall'"
     ]
    }
   ],
   "source": [
    "print(psi_1b_)"
   ]
  },
  {
   "cell_type": "code",
   "execution_count": null,
   "metadata": {},
   "outputs": [
    {
     "ename": "",
     "evalue": "",
     "output_type": "error",
     "traceback": [
      "\u001b[1;31m'py10' を使用した実行中のセルには ipykernel パッケージが必要です。\n",
      "\u001b[1;31m次のコマンドを実行して、'ipykernel' を Python 環境にインストールします。\n",
      "\u001b[1;31mコマンド: 'conda install -n py10 ipykernel --update-deps --force-reinstall'"
     ]
    }
   ],
   "source": [
    "print(pi_ee)"
   ]
  }
 ],
 "metadata": {
  "kernelspec": {
   "display_name": "base",
   "language": "python",
   "name": "python3"
  },
  "language_info": {
   "codemirror_mode": {
    "name": "ipython",
    "version": 3
   },
   "file_extension": ".py",
   "mimetype": "text/x-python",
   "name": "python",
   "nbconvert_exporter": "python",
   "pygments_lexer": "ipython3",
   "version": "3.9.12"
  },
  "orig_nbformat": 4,
  "vscode": {
   "interpreter": {
    "hash": "368756e83d2084993ac505becbe47825c8a72b0fc53c20a5043bb5b908d065dc"
   }
  }
 },
 "nbformat": 4,
 "nbformat_minor": 2
}
