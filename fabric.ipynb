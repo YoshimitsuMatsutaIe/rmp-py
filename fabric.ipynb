{
 "cells": [
  {
   "cell_type": "code",
   "execution_count": 31,
   "metadata": {},
   "outputs": [],
   "source": [
    "\"\"\"ファブリック\n",
    "\n",
    "3次元平面ロボットアーム\n",
    "\"\"\"\n",
    "\n",
    "import numpy as np\n",
    "from scipy import integrate\n",
    "import sympy as sy\n",
    "import matplotlib.pyplot as plt\n",
    "\n",
    "import robot_sice_ex.sice_ex as sice_ex"
   ]
  },
  {
   "cell_type": "code",
   "execution_count": 35,
   "metadata": {},
   "outputs": [],
   "source": [
    "# ee attractor\n",
    "q = sy.MatrixSymbol('q', 2, 1)\n",
    "q_d = sy.MatrixSymbol('q_d', 2, 1)\n",
    "phi = q - q_d\n",
    "x = phi\n",
    "x_norm = sy.sqrt(x[0,0]**2 + x[1,0]**2)\n",
    "\n",
    "m_u, m_l, alpha_m, k, alpha_psi = sy.symbols('m_U, m_l, alpha_m, k, alpha_psi')\n",
    "\n",
    "\n",
    "\n",
    "G = (m_u - m_l) * sy.exp(-(alpha_m * x_norm)**2) * sy.eye(2) + m_u * sy.eye(2)\n",
    "psi_1 = k * (x_norm + 1/alpha_psi * sy.ln(1 + sy.exp(-2 * alpha_psi * x_norm)))\n",
    "\n",
    "M_ee = G\n",
    "pi_ee = -sy.Matrix([[psi_1]]).jacobian(q)\n",
    "\n",
    "func_M_ee = sy.lambdify((q, q_d, m_u, m_l, alpha_m, k, alpha_psi), M_ee, \"numpy\")\n",
    "func_pi_ee = sy.lambdify((q, q_d, m_u, m_l, alpha_m, k, alpha_psi), pi_ee, \"numpy\")\n"
   ]
  },
  {
   "cell_type": "code",
   "execution_count": null,
   "metadata": {},
   "outputs": [],
   "source": [
    "# obs avoidance\n",
    "q = sy.MatrixSymbol('q', 2, 1)\n",
    "q_o = sy.MatrixSymbol('q_o', 2, 1)\n",
    "q_dot = sy.MatrixSymbol('q_dot', 2, 1)\n",
    "\n",
    "r, k_b, lam = sy.symbols('r, k_b, lam')\n",
    "q_ = q - q_o\n",
    "phi = sy.sqrt(q_[0,0]**2 + q_[1,0]**2) / r - 1\n",
    "x = phi\n",
    "\n",
    "def s(x_dot):\n",
    "    if x_dot < 0:\n",
    "        return 1\n",
    "    else:\n",
    "        return 0\n",
    "\n",
    "G = s(q) * lam / x\n"
   ]
  },
  {
   "cell_type": "code",
   "execution_count": 33,
   "metadata": {},
   "outputs": [
    {
     "name": "stdout",
     "output_type": "stream",
     "text": [
      "Matrix([[-k*((qe[0, 0] - qe_d[0, 0])/sqrt((qe[0, 0] - qe_d[0, 0])**2 + (qe[1, 0] - qe_d[1, 0])**2) - 2*(qe[0, 0] - qe_d[0, 0])*exp(-2*alpha_psi*sqrt((qe[0, 0] - qe_d[0, 0])**2 + (qe[1, 0] - qe_d[1, 0])**2))/((1 + exp(-2*alpha_psi*sqrt((qe[0, 0] - qe_d[0, 0])**2 + (qe[1, 0] - qe_d[1, 0])**2)))*sqrt((qe[0, 0] - qe_d[0, 0])**2 + (qe[1, 0] - qe_d[1, 0])**2))), -k*((qe[1, 0] - qe_d[1, 0])/sqrt((qe[0, 0] - qe_d[0, 0])**2 + (qe[1, 0] - qe_d[1, 0])**2) - 2*(qe[1, 0] - qe_d[1, 0])*exp(-2*alpha_psi*sqrt((qe[0, 0] - qe_d[0, 0])**2 + (qe[1, 0] - qe_d[1, 0])**2))/((1 + exp(-2*alpha_psi*sqrt((qe[0, 0] - qe_d[0, 0])**2 + (qe[1, 0] - qe_d[1, 0])**2)))*sqrt((qe[0, 0] - qe_d[0, 0])**2 + (qe[1, 0] - qe_d[1, 0])**2)))]])\n"
     ]
    }
   ],
   "source": [
    "print(pi_ee)"
   ]
  }
 ],
 "metadata": {
  "kernelspec": {
   "display_name": "py10",
   "language": "python",
   "name": "python3"
  },
  "language_info": {
   "codemirror_mode": {
    "name": "ipython",
    "version": 3
   },
   "file_extension": ".py",
   "mimetype": "text/x-python",
   "name": "python",
   "nbconvert_exporter": "python",
   "pygments_lexer": "ipython3",
   "version": "3.10.8"
  },
  "orig_nbformat": 4,
  "vscode": {
   "interpreter": {
    "hash": "874f112d5cd2f37427a47785893364089388359d34c9e648f15286039867cd34"
   }
  }
 },
 "nbformat": 4,
 "nbformat_minor": 2
}
