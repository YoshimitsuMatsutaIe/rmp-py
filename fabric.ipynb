{
 "cells": [
  {
   "cell_type": "code",
   "execution_count": 15,
   "metadata": {},
   "outputs": [],
   "source": [
    "\"\"\"ファブリック\n",
    "\n",
    "3次元平面ロボットアーム\n",
    "\"\"\"\n",
    "\n",
    "import numpy as np\n",
    "from scipy import integrate\n",
    "import sympy as sy\n",
    "import matplotlib.pyplot as plt\n",
    "\n",
    "import robot_sice_ex.sice_ex as sice_ex\n",
    "\n",
    "def s(x_dot):\n",
    "    if x_dot < 0:\n",
    "        return 1\n",
    "    else:\n",
    "        return 0\n",
    "\n",
    "def sigmoid(x, alpha):\n",
    "    return 1 / (1 + sy.exp(-alpha * x))"
   ]
  },
  {
   "cell_type": "code",
   "execution_count": 16,
   "metadata": {},
   "outputs": [],
   "source": [
    "# ee attractor\n",
    "# q = sy.MatrixSymbol('q', 2, 1)\n",
    "# q_d = sy.MatrixSymbol('q_d', 2, 1)\n",
    "# phi = q - q_d\n",
    "# x = phi\n",
    "# x_norm = sy.sqrt(x[0,0]**2 + x[1,0]**2)\n",
    "\n",
    "x = sy.MatrixSymbol('x', 2, 1)\n",
    "x_norm = sy.sqrt(x[0,0]**2 + x[1,0]**2)\n",
    "m_u, m_l, alpha_m, k, alpha_psi = sy.symbols('m_U, m_l, alpha_m, k, alpha_psi')\n",
    "\n",
    "\n",
    "\n",
    "G = (m_u - m_l) * sy.exp(-(alpha_m * x_norm)**2) * sy.eye(2) + m_u * sy.eye(2)\n",
    "psi_1 = k * (x_norm + 1/alpha_psi * sy.ln(1 + sy.exp(-2 * alpha_psi * x_norm)))\n",
    "\n",
    "M_ee = G\n",
    "pi_ee = -sy.Matrix([[psi_1]]).jacobian(q)\n",
    "\n",
    "func_M_ee = sy.lambdify((x, m_u, m_l, alpha_m, k, alpha_psi), M_ee, \"numpy\")\n",
    "func_pi_ee = sy.lambdify((x, m_u, m_l, alpha_m, k, alpha_psi), pi_ee, \"numpy\")\n"
   ]
  },
  {
   "cell_type": "code",
   "execution_count": 30,
   "metadata": {},
   "outputs": [
    {
     "ename": "TypeError",
     "evalue": "Mix of Matrix and Scalar symbols",
     "output_type": "error",
     "traceback": [
      "\u001b[0;31m---------------------------------------------------------------------------\u001b[0m",
      "\u001b[0;31mTypeError\u001b[0m                                 Traceback (most recent call last)",
      "Cell \u001b[0;32mIn[30], line 23\u001b[0m\n\u001b[1;32m     21\u001b[0m x_dot_ \u001b[39m=\u001b[39m \u001b[39m1\u001b[39m\u001b[39m/\u001b[39mr \u001b[39m*\u001b[39m \u001b[39m1\u001b[39m\u001b[39m/\u001b[39msy\u001b[39m.\u001b[39msqrt(q_[\u001b[39m0\u001b[39m,\u001b[39m0\u001b[39m]\u001b[39m*\u001b[39m\u001b[39m*\u001b[39m\u001b[39m2\u001b[39m \u001b[39m+\u001b[39m q_[\u001b[39m1\u001b[39m,\u001b[39m0\u001b[39m]\u001b[39m*\u001b[39m\u001b[39m*\u001b[39m\u001b[39m2\u001b[39m) \u001b[39m*\u001b[39m (q \u001b[39m-\u001b[39m q_o)\u001b[39m.\u001b[39mT \u001b[39m*\u001b[39m q_dot\n\u001b[1;32m     22\u001b[0m psi_1b_ \u001b[39m=\u001b[39m psi_1b\u001b[39m.\u001b[39msubs([(x, x_)])\n\u001b[0;32m---> 23\u001b[0m f \u001b[39m=\u001b[39m M\u001b[39m.\u001b[39;49msubs([(x, x_), (x_dot, x_dot_)]) \u001b[39m*\u001b[39m sy\u001b[39m.\u001b[39mMatrix([[psi_1b_]])\u001b[39m.\u001b[39mjacobian(q)\n\u001b[1;32m     25\u001b[0m f\n",
      "File \u001b[0;32m~/anaconda3/envs/py10/lib/python3.10/site-packages/sympy/core/basic.py:997\u001b[0m, in \u001b[0;36mBasic.subs\u001b[0;34m(self, *args, **kwargs)\u001b[0m\n\u001b[1;32m    995\u001b[0m rv \u001b[39m=\u001b[39m \u001b[39mself\u001b[39m\n\u001b[1;32m    996\u001b[0m \u001b[39mfor\u001b[39;00m old, new \u001b[39min\u001b[39;00m sequence:\n\u001b[0;32m--> 997\u001b[0m     rv \u001b[39m=\u001b[39m rv\u001b[39m.\u001b[39;49m_subs(old, new, \u001b[39m*\u001b[39;49m\u001b[39m*\u001b[39;49mkwargs)\n\u001b[1;32m    998\u001b[0m     \u001b[39mif\u001b[39;00m \u001b[39mnot\u001b[39;00m \u001b[39misinstance\u001b[39m(rv, Basic):\n\u001b[1;32m    999\u001b[0m         \u001b[39mbreak\u001b[39;00m\n",
      "File \u001b[0;32m~/anaconda3/envs/py10/lib/python3.10/site-packages/sympy/core/cache.py:70\u001b[0m, in \u001b[0;36m__cacheit.<locals>.func_wrapper.<locals>.wrapper\u001b[0;34m(*args, **kwargs)\u001b[0m\n\u001b[1;32m     67\u001b[0m \u001b[39m@wraps\u001b[39m(func)\n\u001b[1;32m     68\u001b[0m \u001b[39mdef\u001b[39;00m \u001b[39mwrapper\u001b[39m(\u001b[39m*\u001b[39margs, \u001b[39m*\u001b[39m\u001b[39m*\u001b[39mkwargs):\n\u001b[1;32m     69\u001b[0m     \u001b[39mtry\u001b[39;00m:\n\u001b[0;32m---> 70\u001b[0m         retval \u001b[39m=\u001b[39m cfunc(\u001b[39m*\u001b[39;49margs, \u001b[39m*\u001b[39;49m\u001b[39m*\u001b[39;49mkwargs)\n\u001b[1;32m     71\u001b[0m     \u001b[39mexcept\u001b[39;00m \u001b[39mTypeError\u001b[39;00m \u001b[39mas\u001b[39;00m e:\n\u001b[1;32m     72\u001b[0m         \u001b[39mif\u001b[39;00m \u001b[39mnot\u001b[39;00m e\u001b[39m.\u001b[39margs \u001b[39mor\u001b[39;00m \u001b[39mnot\u001b[39;00m e\u001b[39m.\u001b[39margs[\u001b[39m0\u001b[39m]\u001b[39m.\u001b[39mstartswith(\u001b[39m'\u001b[39m\u001b[39munhashable type:\u001b[39m\u001b[39m'\u001b[39m):\n",
      "File \u001b[0;32m~/anaconda3/envs/py10/lib/python3.10/site-packages/sympy/core/basic.py:1111\u001b[0m, in \u001b[0;36mBasic._subs\u001b[0;34m(self, old, new, **hints)\u001b[0m\n\u001b[1;32m   1109\u001b[0m rv \u001b[39m=\u001b[39m \u001b[39mself\u001b[39m\u001b[39m.\u001b[39m_eval_subs(old, new)\n\u001b[1;32m   1110\u001b[0m \u001b[39mif\u001b[39;00m rv \u001b[39mis\u001b[39;00m \u001b[39mNone\u001b[39;00m:\n\u001b[0;32m-> 1111\u001b[0m     rv \u001b[39m=\u001b[39m fallback(\u001b[39mself\u001b[39;49m, old, new)\n\u001b[1;32m   1112\u001b[0m \u001b[39mreturn\u001b[39;00m rv\n",
      "File \u001b[0;32m~/anaconda3/envs/py10/lib/python3.10/site-packages/sympy/core/basic.py:1083\u001b[0m, in \u001b[0;36mBasic._subs.<locals>.fallback\u001b[0;34m(self, old, new)\u001b[0m\n\u001b[1;32m   1081\u001b[0m \u001b[39mif\u001b[39;00m \u001b[39mnot\u001b[39;00m \u001b[39mhasattr\u001b[39m(arg, \u001b[39m'\u001b[39m\u001b[39m_eval_subs\u001b[39m\u001b[39m'\u001b[39m):\n\u001b[1;32m   1082\u001b[0m     \u001b[39mcontinue\u001b[39;00m\n\u001b[0;32m-> 1083\u001b[0m arg \u001b[39m=\u001b[39m arg\u001b[39m.\u001b[39;49m_subs(old, new, \u001b[39m*\u001b[39;49m\u001b[39m*\u001b[39;49mhints)\n\u001b[1;32m   1084\u001b[0m \u001b[39mif\u001b[39;00m \u001b[39mnot\u001b[39;00m _aresame(arg, args[i]):\n\u001b[1;32m   1085\u001b[0m     hit \u001b[39m=\u001b[39m \u001b[39mTrue\u001b[39;00m\n",
      "File \u001b[0;32m~/anaconda3/envs/py10/lib/python3.10/site-packages/sympy/core/cache.py:70\u001b[0m, in \u001b[0;36m__cacheit.<locals>.func_wrapper.<locals>.wrapper\u001b[0;34m(*args, **kwargs)\u001b[0m\n\u001b[1;32m     67\u001b[0m \u001b[39m@wraps\u001b[39m(func)\n\u001b[1;32m     68\u001b[0m \u001b[39mdef\u001b[39;00m \u001b[39mwrapper\u001b[39m(\u001b[39m*\u001b[39margs, \u001b[39m*\u001b[39m\u001b[39m*\u001b[39mkwargs):\n\u001b[1;32m     69\u001b[0m     \u001b[39mtry\u001b[39;00m:\n\u001b[0;32m---> 70\u001b[0m         retval \u001b[39m=\u001b[39m cfunc(\u001b[39m*\u001b[39;49margs, \u001b[39m*\u001b[39;49m\u001b[39m*\u001b[39;49mkwargs)\n\u001b[1;32m     71\u001b[0m     \u001b[39mexcept\u001b[39;00m \u001b[39mTypeError\u001b[39;00m \u001b[39mas\u001b[39;00m e:\n\u001b[1;32m     72\u001b[0m         \u001b[39mif\u001b[39;00m \u001b[39mnot\u001b[39;00m e\u001b[39m.\u001b[39margs \u001b[39mor\u001b[39;00m \u001b[39mnot\u001b[39;00m e\u001b[39m.\u001b[39margs[\u001b[39m0\u001b[39m]\u001b[39m.\u001b[39mstartswith(\u001b[39m'\u001b[39m\u001b[39munhashable type:\u001b[39m\u001b[39m'\u001b[39m):\n",
      "File \u001b[0;32m~/anaconda3/envs/py10/lib/python3.10/site-packages/sympy/core/basic.py:1111\u001b[0m, in \u001b[0;36mBasic._subs\u001b[0;34m(self, old, new, **hints)\u001b[0m\n\u001b[1;32m   1109\u001b[0m rv \u001b[39m=\u001b[39m \u001b[39mself\u001b[39m\u001b[39m.\u001b[39m_eval_subs(old, new)\n\u001b[1;32m   1110\u001b[0m \u001b[39mif\u001b[39;00m rv \u001b[39mis\u001b[39;00m \u001b[39mNone\u001b[39;00m:\n\u001b[0;32m-> 1111\u001b[0m     rv \u001b[39m=\u001b[39m fallback(\u001b[39mself\u001b[39;49m, old, new)\n\u001b[1;32m   1112\u001b[0m \u001b[39mreturn\u001b[39;00m rv\n",
      "File \u001b[0;32m~/anaconda3/envs/py10/lib/python3.10/site-packages/sympy/core/basic.py:1083\u001b[0m, in \u001b[0;36mBasic._subs.<locals>.fallback\u001b[0;34m(self, old, new)\u001b[0m\n\u001b[1;32m   1081\u001b[0m \u001b[39mif\u001b[39;00m \u001b[39mnot\u001b[39;00m \u001b[39mhasattr\u001b[39m(arg, \u001b[39m'\u001b[39m\u001b[39m_eval_subs\u001b[39m\u001b[39m'\u001b[39m):\n\u001b[1;32m   1082\u001b[0m     \u001b[39mcontinue\u001b[39;00m\n\u001b[0;32m-> 1083\u001b[0m arg \u001b[39m=\u001b[39m arg\u001b[39m.\u001b[39;49m_subs(old, new, \u001b[39m*\u001b[39;49m\u001b[39m*\u001b[39;49mhints)\n\u001b[1;32m   1084\u001b[0m \u001b[39mif\u001b[39;00m \u001b[39mnot\u001b[39;00m _aresame(arg, args[i]):\n\u001b[1;32m   1085\u001b[0m     hit \u001b[39m=\u001b[39m \u001b[39mTrue\u001b[39;00m\n",
      "File \u001b[0;32m~/anaconda3/envs/py10/lib/python3.10/site-packages/sympy/core/cache.py:70\u001b[0m, in \u001b[0;36m__cacheit.<locals>.func_wrapper.<locals>.wrapper\u001b[0;34m(*args, **kwargs)\u001b[0m\n\u001b[1;32m     67\u001b[0m \u001b[39m@wraps\u001b[39m(func)\n\u001b[1;32m     68\u001b[0m \u001b[39mdef\u001b[39;00m \u001b[39mwrapper\u001b[39m(\u001b[39m*\u001b[39margs, \u001b[39m*\u001b[39m\u001b[39m*\u001b[39mkwargs):\n\u001b[1;32m     69\u001b[0m     \u001b[39mtry\u001b[39;00m:\n\u001b[0;32m---> 70\u001b[0m         retval \u001b[39m=\u001b[39m cfunc(\u001b[39m*\u001b[39;49margs, \u001b[39m*\u001b[39;49m\u001b[39m*\u001b[39;49mkwargs)\n\u001b[1;32m     71\u001b[0m     \u001b[39mexcept\u001b[39;00m \u001b[39mTypeError\u001b[39;00m \u001b[39mas\u001b[39;00m e:\n\u001b[1;32m     72\u001b[0m         \u001b[39mif\u001b[39;00m \u001b[39mnot\u001b[39;00m e\u001b[39m.\u001b[39margs \u001b[39mor\u001b[39;00m \u001b[39mnot\u001b[39;00m e\u001b[39m.\u001b[39margs[\u001b[39m0\u001b[39m]\u001b[39m.\u001b[39mstartswith(\u001b[39m'\u001b[39m\u001b[39munhashable type:\u001b[39m\u001b[39m'\u001b[39m):\n",
      "File \u001b[0;32m~/anaconda3/envs/py10/lib/python3.10/site-packages/sympy/core/basic.py:1111\u001b[0m, in \u001b[0;36mBasic._subs\u001b[0;34m(self, old, new, **hints)\u001b[0m\n\u001b[1;32m   1109\u001b[0m rv \u001b[39m=\u001b[39m \u001b[39mself\u001b[39m\u001b[39m.\u001b[39m_eval_subs(old, new)\n\u001b[1;32m   1110\u001b[0m \u001b[39mif\u001b[39;00m rv \u001b[39mis\u001b[39;00m \u001b[39mNone\u001b[39;00m:\n\u001b[0;32m-> 1111\u001b[0m     rv \u001b[39m=\u001b[39m fallback(\u001b[39mself\u001b[39;49m, old, new)\n\u001b[1;32m   1112\u001b[0m \u001b[39mreturn\u001b[39;00m rv\n",
      "File \u001b[0;32m~/anaconda3/envs/py10/lib/python3.10/site-packages/sympy/core/basic.py:1088\u001b[0m, in \u001b[0;36mBasic._subs.<locals>.fallback\u001b[0;34m(self, old, new)\u001b[0m\n\u001b[1;32m   1086\u001b[0m         args[i] \u001b[39m=\u001b[39m arg\n\u001b[1;32m   1087\u001b[0m \u001b[39mif\u001b[39;00m hit:\n\u001b[0;32m-> 1088\u001b[0m     rv \u001b[39m=\u001b[39m \u001b[39mself\u001b[39;49m\u001b[39m.\u001b[39;49mfunc(\u001b[39m*\u001b[39;49margs)\n\u001b[1;32m   1089\u001b[0m     hack2 \u001b[39m=\u001b[39m hints\u001b[39m.\u001b[39mget(\u001b[39m'\u001b[39m\u001b[39mhack2\u001b[39m\u001b[39m'\u001b[39m, \u001b[39mFalse\u001b[39;00m)\n\u001b[1;32m   1090\u001b[0m     \u001b[39mif\u001b[39;00m hack2 \u001b[39mand\u001b[39;00m \u001b[39mself\u001b[39m\u001b[39m.\u001b[39mis_Mul \u001b[39mand\u001b[39;00m \u001b[39mnot\u001b[39;00m rv\u001b[39m.\u001b[39mis_Mul:  \u001b[39m# 2-arg hack\u001b[39;00m\n",
      "File \u001b[0;32m~/anaconda3/envs/py10/lib/python3.10/site-packages/sympy/core/cache.py:70\u001b[0m, in \u001b[0;36m__cacheit.<locals>.func_wrapper.<locals>.wrapper\u001b[0;34m(*args, **kwargs)\u001b[0m\n\u001b[1;32m     67\u001b[0m \u001b[39m@wraps\u001b[39m(func)\n\u001b[1;32m     68\u001b[0m \u001b[39mdef\u001b[39;00m \u001b[39mwrapper\u001b[39m(\u001b[39m*\u001b[39margs, \u001b[39m*\u001b[39m\u001b[39m*\u001b[39mkwargs):\n\u001b[1;32m     69\u001b[0m     \u001b[39mtry\u001b[39;00m:\n\u001b[0;32m---> 70\u001b[0m         retval \u001b[39m=\u001b[39m cfunc(\u001b[39m*\u001b[39;49margs, \u001b[39m*\u001b[39;49m\u001b[39m*\u001b[39;49mkwargs)\n\u001b[1;32m     71\u001b[0m     \u001b[39mexcept\u001b[39;00m \u001b[39mTypeError\u001b[39;00m \u001b[39mas\u001b[39;00m e:\n\u001b[1;32m     72\u001b[0m         \u001b[39mif\u001b[39;00m \u001b[39mnot\u001b[39;00m e\u001b[39m.\u001b[39margs \u001b[39mor\u001b[39;00m \u001b[39mnot\u001b[39;00m e\u001b[39m.\u001b[39margs[\u001b[39m0\u001b[39m]\u001b[39m.\u001b[39mstartswith(\u001b[39m'\u001b[39m\u001b[39munhashable type:\u001b[39m\u001b[39m'\u001b[39m):\n",
      "File \u001b[0;32m~/anaconda3/envs/py10/lib/python3.10/site-packages/sympy/core/operations.py:98\u001b[0m, in \u001b[0;36mAssocOp.__new__\u001b[0;34m(cls, evaluate, _sympify, *args)\u001b[0m\n\u001b[1;32m     95\u001b[0m \u001b[39mif\u001b[39;00m \u001b[39mlen\u001b[39m(args) \u001b[39m==\u001b[39m \u001b[39m1\u001b[39m:\n\u001b[1;32m     96\u001b[0m     \u001b[39mreturn\u001b[39;00m args[\u001b[39m0\u001b[39m]\n\u001b[0;32m---> 98\u001b[0m c_part, nc_part, order_symbols \u001b[39m=\u001b[39m \u001b[39mcls\u001b[39;49m\u001b[39m.\u001b[39;49mflatten(args)\n\u001b[1;32m     99\u001b[0m is_commutative \u001b[39m=\u001b[39m \u001b[39mnot\u001b[39;00m nc_part\n\u001b[1;32m    100\u001b[0m obj \u001b[39m=\u001b[39m \u001b[39mcls\u001b[39m\u001b[39m.\u001b[39m_from_args(c_part \u001b[39m+\u001b[39m nc_part, is_commutative)\n",
      "File \u001b[0;32m~/anaconda3/envs/py10/lib/python3.10/site-packages/sympy/core/mul.py:436\u001b[0m, in \u001b[0;36mMul.flatten\u001b[0;34m(cls, seq)\u001b[0m\n\u001b[1;32m    434\u001b[0m b1, e1 \u001b[39m=\u001b[39m o1\u001b[39m.\u001b[39mas_base_exp()\n\u001b[1;32m    435\u001b[0m b2, e2 \u001b[39m=\u001b[39m o\u001b[39m.\u001b[39mas_base_exp()\n\u001b[0;32m--> 436\u001b[0m new_exp \u001b[39m=\u001b[39m e1 \u001b[39m+\u001b[39;49m e2\n\u001b[1;32m    437\u001b[0m \u001b[39m# Only allow powers to combine if the new exponent is\u001b[39;00m\n\u001b[1;32m    438\u001b[0m \u001b[39m# not an Add. This allow things like a**2*b**3 == a**5\u001b[39;00m\n\u001b[1;32m    439\u001b[0m \u001b[39m# if a.is_commutative == False, but prohibits\u001b[39;00m\n\u001b[1;32m    440\u001b[0m \u001b[39m# a**x*a**y and x**a*x**b from combining (x,y commute).\u001b[39;00m\n\u001b[1;32m    441\u001b[0m \u001b[39mif\u001b[39;00m b1 \u001b[39m==\u001b[39m b2 \u001b[39mand\u001b[39;00m (\u001b[39mnot\u001b[39;00m new_exp\u001b[39m.\u001b[39mis_Add):\n",
      "File \u001b[0;32m~/anaconda3/envs/py10/lib/python3.10/site-packages/sympy/core/numbers.py:2167\u001b[0m, in \u001b[0;36mInteger.__add__\u001b[0;34m(self, other)\u001b[0m\n\u001b[1;32m   2165\u001b[0m     \u001b[39melif\u001b[39;00m \u001b[39misinstance\u001b[39m(other, Rational):\n\u001b[1;32m   2166\u001b[0m         \u001b[39mreturn\u001b[39;00m Rational(\u001b[39mself\u001b[39m\u001b[39m.\u001b[39mp\u001b[39m*\u001b[39mother\u001b[39m.\u001b[39mq \u001b[39m+\u001b[39m other\u001b[39m.\u001b[39mp, other\u001b[39m.\u001b[39mq, \u001b[39m1\u001b[39m)\n\u001b[0;32m-> 2167\u001b[0m     \u001b[39mreturn\u001b[39;00m Rational\u001b[39m.\u001b[39;49m\u001b[39m__add__\u001b[39;49m(\u001b[39mself\u001b[39;49m, other)\n\u001b[1;32m   2168\u001b[0m \u001b[39melse\u001b[39;00m:\n\u001b[1;32m   2169\u001b[0m     \u001b[39mreturn\u001b[39;00m Add(\u001b[39mself\u001b[39m, other)\n",
      "File \u001b[0;32m~/anaconda3/envs/py10/lib/python3.10/site-packages/sympy/core/decorators.py:65\u001b[0m, in \u001b[0;36m__sympifyit.<locals>.__sympifyit_wrapper\u001b[0;34m(a, b)\u001b[0m\n\u001b[1;32m     63\u001b[0m     \u001b[39mif\u001b[39;00m \u001b[39mnot\u001b[39;00m \u001b[39mhasattr\u001b[39m(b, \u001b[39m'\u001b[39m\u001b[39m_op_priority\u001b[39m\u001b[39m'\u001b[39m):\n\u001b[1;32m     64\u001b[0m         b \u001b[39m=\u001b[39m sympify(b, strict\u001b[39m=\u001b[39m\u001b[39mTrue\u001b[39;00m)\n\u001b[0;32m---> 65\u001b[0m     \u001b[39mreturn\u001b[39;00m func(a, b)\n\u001b[1;32m     66\u001b[0m \u001b[39mexcept\u001b[39;00m SympifyError:\n\u001b[1;32m     67\u001b[0m     \u001b[39mreturn\u001b[39;00m retval\n",
      "File \u001b[0;32m~/anaconda3/envs/py10/lib/python3.10/site-packages/sympy/core/numbers.py:1706\u001b[0m, in \u001b[0;36mRational.__add__\u001b[0;34m(self, other)\u001b[0m\n\u001b[1;32m   1704\u001b[0m         \u001b[39mreturn\u001b[39;00m other \u001b[39m+\u001b[39m \u001b[39mself\u001b[39m\n\u001b[1;32m   1705\u001b[0m     \u001b[39melse\u001b[39;00m:\n\u001b[0;32m-> 1706\u001b[0m         \u001b[39mreturn\u001b[39;00m Number\u001b[39m.\u001b[39;49m\u001b[39m__add__\u001b[39;49m(\u001b[39mself\u001b[39;49m, other)\n\u001b[1;32m   1707\u001b[0m \u001b[39mreturn\u001b[39;00m Number\u001b[39m.\u001b[39m\u001b[39m__add__\u001b[39m(\u001b[39mself\u001b[39m, other)\n",
      "File \u001b[0;32m~/anaconda3/envs/py10/lib/python3.10/site-packages/sympy/core/decorators.py:65\u001b[0m, in \u001b[0;36m__sympifyit.<locals>.__sympifyit_wrapper\u001b[0;34m(a, b)\u001b[0m\n\u001b[1;32m     63\u001b[0m     \u001b[39mif\u001b[39;00m \u001b[39mnot\u001b[39;00m \u001b[39mhasattr\u001b[39m(b, \u001b[39m'\u001b[39m\u001b[39m_op_priority\u001b[39m\u001b[39m'\u001b[39m):\n\u001b[1;32m     64\u001b[0m         b \u001b[39m=\u001b[39m sympify(b, strict\u001b[39m=\u001b[39m\u001b[39mTrue\u001b[39;00m)\n\u001b[0;32m---> 65\u001b[0m     \u001b[39mreturn\u001b[39;00m func(a, b)\n\u001b[1;32m     66\u001b[0m \u001b[39mexcept\u001b[39;00m SympifyError:\n\u001b[1;32m     67\u001b[0m     \u001b[39mreturn\u001b[39;00m retval\n",
      "File \u001b[0;32m~/anaconda3/envs/py10/lib/python3.10/site-packages/sympy/core/numbers.py:725\u001b[0m, in \u001b[0;36mNumber.__add__\u001b[0;34m(self, other)\u001b[0m\n\u001b[1;32m    723\u001b[0m     \u001b[39melif\u001b[39;00m other \u001b[39mis\u001b[39;00m S\u001b[39m.\u001b[39mNegativeInfinity:\n\u001b[1;32m    724\u001b[0m         \u001b[39mreturn\u001b[39;00m S\u001b[39m.\u001b[39mNegativeInfinity\n\u001b[0;32m--> 725\u001b[0m \u001b[39mreturn\u001b[39;00m AtomicExpr\u001b[39m.\u001b[39;49m\u001b[39m__add__\u001b[39;49m(\u001b[39mself\u001b[39;49m, other)\n",
      "File \u001b[0;32m~/anaconda3/envs/py10/lib/python3.10/site-packages/sympy/core/decorators.py:236\u001b[0m, in \u001b[0;36m_SympifyWrapper.make_wrapped.<locals>._func\u001b[0;34m(self, other)\u001b[0m\n\u001b[1;32m    234\u001b[0m \u001b[39mif\u001b[39;00m \u001b[39mnot\u001b[39;00m \u001b[39misinstance\u001b[39m(other, expectedcls):\n\u001b[1;32m    235\u001b[0m     \u001b[39mreturn\u001b[39;00m retval\n\u001b[0;32m--> 236\u001b[0m \u001b[39mreturn\u001b[39;00m func(\u001b[39mself\u001b[39;49m, other)\n",
      "File \u001b[0;32m~/anaconda3/envs/py10/lib/python3.10/site-packages/sympy/core/decorators.py:105\u001b[0m, in \u001b[0;36mcall_highest_priority.<locals>.priority_decorator.<locals>.binary_op_wrapper\u001b[0;34m(self, other)\u001b[0m\n\u001b[1;32m    103\u001b[0m         f \u001b[39m=\u001b[39m \u001b[39mgetattr\u001b[39m(other, method_name, \u001b[39mNone\u001b[39;00m)\n\u001b[1;32m    104\u001b[0m         \u001b[39mif\u001b[39;00m f \u001b[39mis\u001b[39;00m \u001b[39mnot\u001b[39;00m \u001b[39mNone\u001b[39;00m:\n\u001b[0;32m--> 105\u001b[0m             \u001b[39mreturn\u001b[39;00m f(\u001b[39mself\u001b[39;49m)\n\u001b[1;32m    106\u001b[0m \u001b[39mreturn\u001b[39;00m func(\u001b[39mself\u001b[39m, other)\n",
      "File \u001b[0;32m~/anaconda3/envs/py10/lib/python3.10/site-packages/sympy/matrices/expressions/matexpr.py:27\u001b[0m, in \u001b[0;36m_sympifyit.<locals>.deco.<locals>.__sympifyit_wrapper\u001b[0;34m(a, b)\u001b[0m\n\u001b[1;32m     25\u001b[0m \u001b[39mtry\u001b[39;00m:\n\u001b[1;32m     26\u001b[0m     b \u001b[39m=\u001b[39m _sympify(b)\n\u001b[0;32m---> 27\u001b[0m     \u001b[39mreturn\u001b[39;00m func(a, b)\n\u001b[1;32m     28\u001b[0m \u001b[39mexcept\u001b[39;00m SympifyError:\n\u001b[1;32m     29\u001b[0m     \u001b[39mreturn\u001b[39;00m retval\n",
      "File \u001b[0;32m~/anaconda3/envs/py10/lib/python3.10/site-packages/sympy/core/decorators.py:106\u001b[0m, in \u001b[0;36mcall_highest_priority.<locals>.priority_decorator.<locals>.binary_op_wrapper\u001b[0;34m(self, other)\u001b[0m\n\u001b[1;32m    104\u001b[0m         \u001b[39mif\u001b[39;00m f \u001b[39mis\u001b[39;00m \u001b[39mnot\u001b[39;00m \u001b[39mNone\u001b[39;00m:\n\u001b[1;32m    105\u001b[0m             \u001b[39mreturn\u001b[39;00m f(\u001b[39mself\u001b[39m)\n\u001b[0;32m--> 106\u001b[0m \u001b[39mreturn\u001b[39;00m func(\u001b[39mself\u001b[39;49m, other)\n",
      "File \u001b[0;32m~/anaconda3/envs/py10/lib/python3.10/site-packages/sympy/matrices/expressions/matexpr.py:112\u001b[0m, in \u001b[0;36mMatrixExpr.__radd__\u001b[0;34m(self, other)\u001b[0m\n\u001b[1;32m    109\u001b[0m \u001b[39m@_sympifyit\u001b[39m(\u001b[39m'\u001b[39m\u001b[39mother\u001b[39m\u001b[39m'\u001b[39m, \u001b[39mNotImplemented\u001b[39m)\n\u001b[1;32m    110\u001b[0m \u001b[39m@call_highest_priority\u001b[39m(\u001b[39m'\u001b[39m\u001b[39m__add__\u001b[39m\u001b[39m'\u001b[39m)\n\u001b[1;32m    111\u001b[0m \u001b[39mdef\u001b[39;00m \u001b[39m__radd__\u001b[39m(\u001b[39mself\u001b[39m, other):\n\u001b[0;32m--> 112\u001b[0m     \u001b[39mreturn\u001b[39;00m MatAdd(other, \u001b[39mself\u001b[39;49m)\u001b[39m.\u001b[39mdoit()\n",
      "File \u001b[0;32m~/anaconda3/envs/py10/lib/python3.10/site-packages/sympy/matrices/expressions/matadd.py:58\u001b[0m, in \u001b[0;36mMatAdd.__new__\u001b[0;34m(cls, evaluate, check, _sympify, *args)\u001b[0m\n\u001b[1;32m     56\u001b[0m     \u001b[39mif\u001b[39;00m \u001b[39mnot\u001b[39;00m \u001b[39many\u001b[39m(\u001b[39misinstance\u001b[39m(i, MatrixExpr) \u001b[39mfor\u001b[39;00m i \u001b[39min\u001b[39;00m args):\n\u001b[1;32m     57\u001b[0m         \u001b[39mreturn\u001b[39;00m Add\u001b[39m.\u001b[39mfromiter(args)\n\u001b[0;32m---> 58\u001b[0m     validate(\u001b[39m*\u001b[39;49margs)\n\u001b[1;32m     59\u001b[0m \u001b[39melse\u001b[39;00m:\n\u001b[1;32m     60\u001b[0m     sympy_deprecation_warning(\n\u001b[1;32m     61\u001b[0m         \u001b[39m\"\u001b[39m\u001b[39mPassing check=False to MatAdd is deprecated and the check argument will be removed in a future version.\u001b[39m\u001b[39m\"\u001b[39m,\n\u001b[1;32m     62\u001b[0m         deprecated_since_version\u001b[39m=\u001b[39m\u001b[39m\"\u001b[39m\u001b[39m1.11\u001b[39m\u001b[39m\"\u001b[39m,\n\u001b[1;32m     63\u001b[0m         active_deprecations_target\u001b[39m=\u001b[39m\u001b[39m'\u001b[39m\u001b[39mremove-check-argument-from-matrix-operations\u001b[39m\u001b[39m'\u001b[39m)\n",
      "File \u001b[0;32m~/anaconda3/envs/py10/lib/python3.10/site-packages/sympy/matrices/expressions/matadd.py:114\u001b[0m, in \u001b[0;36mvalidate\u001b[0;34m(*args)\u001b[0m\n\u001b[1;32m    112\u001b[0m \u001b[39mdef\u001b[39;00m \u001b[39mvalidate\u001b[39m(\u001b[39m*\u001b[39margs):\n\u001b[1;32m    113\u001b[0m     \u001b[39mif\u001b[39;00m \u001b[39mnot\u001b[39;00m \u001b[39mall\u001b[39m(arg\u001b[39m.\u001b[39mis_Matrix \u001b[39mfor\u001b[39;00m arg \u001b[39min\u001b[39;00m args):\n\u001b[0;32m--> 114\u001b[0m         \u001b[39mraise\u001b[39;00m \u001b[39mTypeError\u001b[39;00m(\u001b[39m\"\u001b[39m\u001b[39mMix of Matrix and Scalar symbols\u001b[39m\u001b[39m\"\u001b[39m)\n\u001b[1;32m    116\u001b[0m     A \u001b[39m=\u001b[39m args[\u001b[39m0\u001b[39m]\n\u001b[1;32m    117\u001b[0m     \u001b[39mfor\u001b[39;00m B \u001b[39min\u001b[39;00m args[\u001b[39m1\u001b[39m:]:\n",
      "\u001b[0;31mTypeError\u001b[0m: Mix of Matrix and Scalar symbols"
     ]
    }
   ],
   "source": [
    "# obs avoidance\n",
    "\n",
    "\n",
    "r, k_b, alpha_b, alpha_sig = sy.symbols('r, k_b, alpha_b, alpha_sig')\n",
    "x = sy.Symbol('x')\n",
    "x_dot = sy.Symbol('x_dot')\n",
    "\n",
    "G = sigmoid(x_dot, alpha_sig) * k_b / x\n",
    "L = 1/2 * x_dot * G * x_dot\n",
    "\n",
    "M = sy.diff(L, (x_dot, 2))\n",
    "psi_1b = alpha_b / (2 * x**8)\n",
    "\n",
    "\n",
    "q = sy.MatrixSymbol('q', 2, 1)\n",
    "q_o = sy.MatrixSymbol('q_o', 2, 1)\n",
    "q_dot = sy.MatrixSymbol('q_dot', 2, 1)\n",
    "q_ = q - q_o\n",
    "phi = sy.sqrt(q_[0,0]**2 + q_[1,0]**2) / r - 1\n",
    "x_ = phi\n",
    "x_dot_ = 1/r * 1/sy.sqrt(q_[0,0]**2 + q_[1,0]**2) * (q - q_o).T * q_dot\n",
    "psi_1b_ = psi_1b.subs([(x, x_)])\n",
    "f = M.subs([(x, x_), (x_dot, x_dot_)]) * sy.Matrix([[psi_1b_]]).jacobian(q)\n",
    "\n",
    "f"
   ]
  },
  {
   "cell_type": "code",
   "execution_count": 29,
   "metadata": {},
   "outputs": [
    {
     "name": "stdout",
     "output_type": "stream",
     "text": [
      "alpha_b/(2*(-1 + sqrt((q[0, 0] - q_o[0, 0])**2 + (q[1, 0] - q_o[1, 0])**2)/r)**8)\n"
     ]
    }
   ],
   "source": [
    "print(psi_1b_)"
   ]
  },
  {
   "cell_type": "code",
   "execution_count": null,
   "metadata": {},
   "outputs": [
    {
     "name": "stdout",
     "output_type": "stream",
     "text": [
      "Matrix([[-k*((q[0, 0] - q_d[0, 0])/sqrt((q[0, 0] - q_d[0, 0])**2 + (q[1, 0] - q_d[1, 0])**2) - 2*(q[0, 0] - q_d[0, 0])*exp(-2*alpha_psi*sqrt((q[0, 0] - q_d[0, 0])**2 + (q[1, 0] - q_d[1, 0])**2))/((1 + exp(-2*alpha_psi*sqrt((q[0, 0] - q_d[0, 0])**2 + (q[1, 0] - q_d[1, 0])**2)))*sqrt((q[0, 0] - q_d[0, 0])**2 + (q[1, 0] - q_d[1, 0])**2))), -k*((q[1, 0] - q_d[1, 0])/sqrt((q[0, 0] - q_d[0, 0])**2 + (q[1, 0] - q_d[1, 0])**2) - 2*(q[1, 0] - q_d[1, 0])*exp(-2*alpha_psi*sqrt((q[0, 0] - q_d[0, 0])**2 + (q[1, 0] - q_d[1, 0])**2))/((1 + exp(-2*alpha_psi*sqrt((q[0, 0] - q_d[0, 0])**2 + (q[1, 0] - q_d[1, 0])**2)))*sqrt((q[0, 0] - q_d[0, 0])**2 + (q[1, 0] - q_d[1, 0])**2)))]])\n"
     ]
    }
   ],
   "source": [
    "print(pi_ee)"
   ]
  }
 ],
 "metadata": {
  "kernelspec": {
   "display_name": "py10",
   "language": "python",
   "name": "python3"
  },
  "language_info": {
   "codemirror_mode": {
    "name": "ipython",
    "version": 3
   },
   "file_extension": ".py",
   "mimetype": "text/x-python",
   "name": "python",
   "nbconvert_exporter": "python",
   "pygments_lexer": "ipython3",
   "version": "3.10.8"
  },
  "orig_nbformat": 4,
  "vscode": {
   "interpreter": {
    "hash": "874f112d5cd2f37427a47785893364089388359d34c9e648f15286039867cd34"
   }
  }
 },
 "nbformat": 4,
 "nbformat_minor": 2
}
